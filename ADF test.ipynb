{
 "cells": [
  {
   "cell_type": "code",
   "execution_count": 1,
   "id": "b1336148",
   "metadata": {},
   "outputs": [],
   "source": [
    "import numpy as np\n",
    "import seaborn as sns\n",
    "import matplotlib.pyplot as plt\n",
    "import pandas as pd\n",
    "\n",
    "import statsmodels.api as sm\n",
    "from statsmodels.tsa.api import VAR\n",
    "from statsmodels.tsa.stattools import adfuller"
   ]
  },
  {
   "cell_type": "code",
   "execution_count": 6,
   "id": "becc7d21",
   "metadata": {},
   "outputs": [
    {
     "data": {
      "text/html": [
       "<div>\n",
       "<style scoped>\n",
       "    .dataframe tbody tr th:only-of-type {\n",
       "        vertical-align: middle;\n",
       "    }\n",
       "\n",
       "    .dataframe tbody tr th {\n",
       "        vertical-align: top;\n",
       "    }\n",
       "\n",
       "    .dataframe thead th {\n",
       "        text-align: right;\n",
       "    }\n",
       "</style>\n",
       "<table border=\"1\" class=\"dataframe\">\n",
       "  <thead>\n",
       "    <tr style=\"text-align: right;\">\n",
       "      <th></th>\n",
       "      <th>Unnamed: 0</th>\n",
       "      <th>gameName</th>\n",
       "      <th>gameRank</th>\n",
       "      <th>gameRankUpDown</th>\n",
       "      <th>gameShares</th>\n",
       "      <th>gameGenreShares</th>\n",
       "      <th>sharesUpDown</th>\n",
       "      <th>timeCountTotal</th>\n",
       "      <th>avgUsedTime</th>\n",
       "      <th>userCountTotal</th>\n",
       "      <th>...</th>\n",
       "      <th>c_p_n</th>\n",
       "      <th>c_pos</th>\n",
       "      <th>c_neg</th>\n",
       "      <th>c_neu</th>\n",
       "      <th>cnum_nonzero</th>\n",
       "      <th>c_avg_media</th>\n",
       "      <th>c_avg_p+n</th>\n",
       "      <th>c_avg_pos</th>\n",
       "      <th>c_avg_neg</th>\n",
       "      <th>c_avg_neu</th>\n",
       "    </tr>\n",
       "  </thead>\n",
       "  <tbody>\n",
       "    <tr>\n",
       "      <th>0</th>\n",
       "      <td>0</td>\n",
       "      <td>리그오브레전드</td>\n",
       "      <td>1</td>\n",
       "      <td>0</td>\n",
       "      <td>43.96</td>\n",
       "      <td>93.28</td>\n",
       "      <td>-0.94</td>\n",
       "      <td>20.021294</td>\n",
       "      <td>6.714246</td>\n",
       "      <td>19.227715</td>\n",
       "      <td>...</td>\n",
       "      <td>4.807355</td>\n",
       "      <td>4.392317</td>\n",
       "      <td>3.000000</td>\n",
       "      <td>4.643856</td>\n",
       "      <td>2.807355</td>\n",
       "      <td>3.247928</td>\n",
       "      <td>2.459432</td>\n",
       "      <td>2.115477</td>\n",
       "      <td>1.115477</td>\n",
       "      <td>2.321928</td>\n",
       "    </tr>\n",
       "    <tr>\n",
       "      <th>1</th>\n",
       "      <td>1</td>\n",
       "      <td>리그오브레전드</td>\n",
       "      <td>1</td>\n",
       "      <td>0</td>\n",
       "      <td>44.90</td>\n",
       "      <td>93.55</td>\n",
       "      <td>0.53</td>\n",
       "      <td>19.928705</td>\n",
       "      <td>6.741467</td>\n",
       "      <td>19.099253</td>\n",
       "      <td>...</td>\n",
       "      <td>10.260920</td>\n",
       "      <td>9.681238</td>\n",
       "      <td>8.668885</td>\n",
       "      <td>10.761551</td>\n",
       "      <td>2.807355</td>\n",
       "      <td>8.949827</td>\n",
       "      <td>7.681824</td>\n",
       "      <td>7.105035</td>\n",
       "      <td>6.101538</td>\n",
       "      <td>8.180738</td>\n",
       "    </tr>\n",
       "    <tr>\n",
       "      <th>2</th>\n",
       "      <td>2</td>\n",
       "      <td>리그오브레전드</td>\n",
       "      <td>1</td>\n",
       "      <td>0</td>\n",
       "      <td>44.37</td>\n",
       "      <td>93.55</td>\n",
       "      <td>0.33</td>\n",
       "      <td>19.853389</td>\n",
       "      <td>6.768184</td>\n",
       "      <td>19.003883</td>\n",
       "      <td>...</td>\n",
       "      <td>10.258566</td>\n",
       "      <td>9.672425</td>\n",
       "      <td>8.679480</td>\n",
       "      <td>10.767357</td>\n",
       "      <td>2.807355</td>\n",
       "      <td>8.952256</td>\n",
       "      <td>7.679480</td>\n",
       "      <td>7.096276</td>\n",
       "      <td>6.112005</td>\n",
       "      <td>8.186527</td>\n",
       "    </tr>\n",
       "    <tr>\n",
       "      <th>3</th>\n",
       "      <td>3</td>\n",
       "      <td>리그오브레전드</td>\n",
       "      <td>1</td>\n",
       "      <td>0</td>\n",
       "      <td>44.04</td>\n",
       "      <td>93.63</td>\n",
       "      <td>1.27</td>\n",
       "      <td>19.867525</td>\n",
       "      <td>6.754888</td>\n",
       "      <td>19.030039</td>\n",
       "      <td>...</td>\n",
       "      <td>10.258566</td>\n",
       "      <td>9.675957</td>\n",
       "      <td>8.672425</td>\n",
       "      <td>10.758223</td>\n",
       "      <td>2.807355</td>\n",
       "      <td>8.946906</td>\n",
       "      <td>7.679480</td>\n",
       "      <td>7.099786</td>\n",
       "      <td>6.105035</td>\n",
       "      <td>8.177420</td>\n",
       "    </tr>\n",
       "    <tr>\n",
       "      <th>4</th>\n",
       "      <td>4</td>\n",
       "      <td>리그오브레전드</td>\n",
       "      <td>1</td>\n",
       "      <td>0</td>\n",
       "      <td>42.77</td>\n",
       "      <td>93.34</td>\n",
       "      <td>-0.50</td>\n",
       "      <td>20.208988</td>\n",
       "      <td>6.845490</td>\n",
       "      <td>19.278282</td>\n",
       "      <td>...</td>\n",
       "      <td>10.265615</td>\n",
       "      <td>9.682995</td>\n",
       "      <td>8.679480</td>\n",
       "      <td>10.765700</td>\n",
       "      <td>2.807355</td>\n",
       "      <td>8.954196</td>\n",
       "      <td>7.686501</td>\n",
       "      <td>7.106781</td>\n",
       "      <td>6.112005</td>\n",
       "      <td>8.184875</td>\n",
       "    </tr>\n",
       "  </tbody>\n",
       "</table>\n",
       "<p>5 rows × 96 columns</p>\n",
       "</div>"
      ],
      "text/plain": [
       "   Unnamed: 0 gameName  gameRank  gameRankUpDown  gameShares  gameGenreShares  \\\n",
       "0           0  리그오브레전드         1               0       43.96            93.28   \n",
       "1           1  리그오브레전드         1               0       44.90            93.55   \n",
       "2           2  리그오브레전드         1               0       44.37            93.55   \n",
       "3           3  리그오브레전드         1               0       44.04            93.63   \n",
       "4           4  리그오브레전드         1               0       42.77            93.34   \n",
       "\n",
       "   sharesUpDown  timeCountTotal  avgUsedTime  userCountTotal  ...      c_p_n  \\\n",
       "0         -0.94       20.021294     6.714246       19.227715  ...   4.807355   \n",
       "1          0.53       19.928705     6.741467       19.099253  ...  10.260920   \n",
       "2          0.33       19.853389     6.768184       19.003883  ...  10.258566   \n",
       "3          1.27       19.867525     6.754888       19.030039  ...  10.258566   \n",
       "4         -0.50       20.208988     6.845490       19.278282  ...  10.265615   \n",
       "\n",
       "      c_pos     c_neg      c_neu cnum_nonzero  c_avg_media  c_avg_p+n  \\\n",
       "0  4.392317  3.000000   4.643856     2.807355     3.247928   2.459432   \n",
       "1  9.681238  8.668885  10.761551     2.807355     8.949827   7.681824   \n",
       "2  9.672425  8.679480  10.767357     2.807355     8.952256   7.679480   \n",
       "3  9.675957  8.672425  10.758223     2.807355     8.946906   7.679480   \n",
       "4  9.682995  8.679480  10.765700     2.807355     8.954196   7.686501   \n",
       "\n",
       "   c_avg_pos  c_avg_neg  c_avg_neu  \n",
       "0   2.115477   1.115477   2.321928  \n",
       "1   7.105035   6.101538   8.180738  \n",
       "2   7.096276   6.112005   8.186527  \n",
       "3   7.099786   6.105035   8.177420  \n",
       "4   7.106781   6.112005   8.184875  \n",
       "\n",
       "[5 rows x 96 columns]"
      ]
     },
     "execution_count": 6,
     "metadata": {},
     "output_type": "execute_result"
    }
   ],
   "source": [
    "df = pd.read_csv('C:\\\\Users\\\\sh921\\\\Desktop\\\\merged_logscaled_0819.csv')\n",
    "df.head()"
   ]
  },
  {
   "cell_type": "markdown",
   "id": "ce544989",
   "metadata": {},
   "source": [
    "#stationary test\n",
    "#dependent variable"
   ]
  },
  {
   "cell_type": "code",
   "execution_count": 20,
   "id": "e7065d77",
   "metadata": {},
   "outputs": [],
   "source": [
    "mydata = df[[\"useStoreCount\",\"gameRank\", 'gameRankUpDown',\"gameShares\",\"gameGenreShares\",\"sharesUpDown\",\"timeCountTotal\",\"avgUsedTime\",\"userCountTotal\"]]\n",
    "mydata.index = df[\"date\"]"
   ]
  },
  {
   "cell_type": "code",
   "execution_count": 12,
   "id": "56ec86cc",
   "metadata": {},
   "outputs": [
    {
     "name": "stdout",
     "output_type": "stream",
     "text": [
      "ADF test statistic: -4.840658656355861\n",
      "p-value: 4.543893987768664e-05\n"
     ]
    }
   ],
   "source": [
    "adfuller_test = adfuller(mydata['gameRank'], autolag= \"AIC\")\n",
    "print(\"ADF test statistic: {}\".format(adfuller_test[0]))\n",
    "print(\"p-value: {}\".format(adfuller_test[1]))"
   ]
  },
  {
   "cell_type": "code",
   "execution_count": 13,
   "id": "e7088d3a",
   "metadata": {},
   "outputs": [
    {
     "name": "stdout",
     "output_type": "stream",
     "text": [
      "ADF test statistic: -39.67646011282806\n",
      "p-value: 0.0\n"
     ]
    }
   ],
   "source": [
    "adfuller_test = adfuller(mydata['gameRankUpDown'], autolag= \"AIC\")\n",
    "print(\"ADF test statistic: {}\".format(adfuller_test[0]))\n",
    "print(\"p-value: {}\".format(adfuller_test[1]))"
   ]
  },
  {
   "cell_type": "code",
   "execution_count": 14,
   "id": "90c40003",
   "metadata": {},
   "outputs": [
    {
     "name": "stdout",
     "output_type": "stream",
     "text": [
      "ADF test statistic: -14.405490312749519\n",
      "p-value: 8.371225957766097e-27\n"
     ]
    }
   ],
   "source": [
    "adfuller_test = adfuller(mydata['gameShares'], autolag= \"AIC\")\n",
    "print(\"ADF test statistic: {}\".format(adfuller_test[0]))\n",
    "print(\"p-value: {}\".format(adfuller_test[1]))"
   ]
  },
  {
   "cell_type": "code",
   "execution_count": 15,
   "id": "33a2a069",
   "metadata": {},
   "outputs": [
    {
     "name": "stdout",
     "output_type": "stream",
     "text": [
      "ADF test statistic: -8.075877871315678\n",
      "p-value: 1.5060488156068051e-12\n"
     ]
    }
   ],
   "source": [
    "adfuller_test = adfuller(mydata['gameGenreShares'], autolag= \"AIC\")\n",
    "print(\"ADF test statistic: {}\".format(adfuller_test[0]))\n",
    "print(\"p-value: {}\".format(adfuller_test[1]))"
   ]
  },
  {
   "cell_type": "code",
   "execution_count": 16,
   "id": "f6b8b252",
   "metadata": {},
   "outputs": [
    {
     "name": "stdout",
     "output_type": "stream",
     "text": [
      "ADF test statistic: -42.08605736512131\n",
      "p-value: 0.0\n"
     ]
    }
   ],
   "source": [
    "adfuller_test = adfuller(mydata['sharesUpDown'], autolag= \"AIC\")\n",
    "print(\"ADF test statistic: {}\".format(adfuller_test[0]))\n",
    "print(\"p-value: {}\".format(adfuller_test[1]))"
   ]
  },
  {
   "cell_type": "code",
   "execution_count": 17,
   "id": "75290c40",
   "metadata": {},
   "outputs": [
    {
     "name": "stdout",
     "output_type": "stream",
     "text": [
      "ADF test statistic: -6.183992718465242\n",
      "p-value: 6.354402642191283e-08\n"
     ]
    }
   ],
   "source": [
    "adfuller_test = adfuller(mydata['timeCountTotal'], autolag= \"AIC\")\n",
    "print(\"ADF test statistic: {}\".format(adfuller_test[0]))\n",
    "print(\"p-value: {}\".format(adfuller_test[1]))"
   ]
  },
  {
   "cell_type": "code",
   "execution_count": 18,
   "id": "c8595167",
   "metadata": {},
   "outputs": [
    {
     "name": "stdout",
     "output_type": "stream",
     "text": [
      "ADF test statistic: -6.011144949889652\n",
      "p-value: 1.5724049635242465e-07\n"
     ]
    }
   ],
   "source": [
    "adfuller_test = adfuller(mydata['avgUsedTime'], autolag= \"AIC\")\n",
    "print(\"ADF test statistic: {}\".format(adfuller_test[0]))\n",
    "print(\"p-value: {}\".format(adfuller_test[1]))"
   ]
  },
  {
   "cell_type": "code",
   "execution_count": 19,
   "id": "2b931992",
   "metadata": {},
   "outputs": [
    {
     "name": "stdout",
     "output_type": "stream",
     "text": [
      "ADF test statistic: -6.523148628966993\n",
      "p-value: 1.0301528450419079e-08\n"
     ]
    }
   ],
   "source": [
    "adfuller_test = adfuller(mydata['userCountTotal'], autolag= \"AIC\")\n",
    "print(\"ADF test statistic: {}\".format(adfuller_test[0]))\n",
    "print(\"p-value: {}\".format(adfuller_test[1]))"
   ]
  },
  {
   "cell_type": "code",
   "execution_count": 21,
   "id": "86afc180",
   "metadata": {},
   "outputs": [
    {
     "name": "stdout",
     "output_type": "stream",
     "text": [
      "ADF test statistic: -6.454648372749455\n",
      "p-value: 1.493836315571869e-08\n"
     ]
    }
   ],
   "source": [
    "adfuller_test = adfuller(mydata['useStoreCount'], autolag= \"AIC\")\n",
    "print(\"ADF test statistic: {}\".format(adfuller_test[0]))\n",
    "print(\"p-value: {}\".format(adfuller_test[1]))"
   ]
  },
  {
   "cell_type": "code",
   "execution_count": null,
   "id": "7e3fbc94",
   "metadata": {},
   "outputs": [],
   "source": [
    "#independent variable"
   ]
  },
  {
   "cell_type": "code",
   "execution_count": 25,
   "id": "c041e508",
   "metadata": {},
   "outputs": [],
   "source": [
    "mydata2 = df[[\"positive\",\"negative\", 'neutral',\"total\",\"p+n\",\"blog+cafe+kakao\",\"naver+community\",\"news+firm\",\"c_totalmedia\"]]\n",
    "mydata2.index = df[\"date\"]"
   ]
  },
  {
   "cell_type": "code",
   "execution_count": 27,
   "id": "d4705544",
   "metadata": {},
   "outputs": [
    {
     "name": "stdout",
     "output_type": "stream",
     "text": [
      "ADF test statistic: -7.496474465403201\n",
      "p-value: 4.36619297893344e-11\n"
     ]
    }
   ],
   "source": [
    "adfuller_test = adfuller(mydata2['positive'], autolag= \"AIC\")\n",
    "print(\"ADF test statistic: {}\".format(adfuller_test[0]))\n",
    "print(\"p-value: {}\".format(adfuller_test[1]))"
   ]
  },
  {
   "cell_type": "code",
   "execution_count": 29,
   "id": "d8f0ddf9",
   "metadata": {},
   "outputs": [
    {
     "name": "stdout",
     "output_type": "stream",
     "text": [
      "ADF test statistic: -7.253095188793178\n",
      "p-value: 1.7591193641682802e-10\n"
     ]
    }
   ],
   "source": [
    "adfuller_test = adfuller(mydata2['neutral'], autolag= \"AIC\")\n",
    "print(\"ADF test statistic: {}\".format(adfuller_test[0]))\n",
    "print(\"p-value: {}\".format(adfuller_test[1]))"
   ]
  },
  {
   "cell_type": "code",
   "execution_count": 30,
   "id": "b9eb8cbe",
   "metadata": {},
   "outputs": [
    {
     "name": "stdout",
     "output_type": "stream",
     "text": [
      "ADF test statistic: -6.99909526412217\n",
      "p-value: 7.401321268200912e-10\n"
     ]
    }
   ],
   "source": [
    "adfuller_test = adfuller(mydata2['total'], autolag= \"AIC\")\n",
    "print(\"ADF test statistic: {}\".format(adfuller_test[0]))\n",
    "print(\"p-value: {}\".format(adfuller_test[1]))"
   ]
  },
  {
   "cell_type": "code",
   "execution_count": 31,
   "id": "77e7673c",
   "metadata": {},
   "outputs": [
    {
     "name": "stdout",
     "output_type": "stream",
     "text": [
      "ADF test statistic: -7.312554468390074\n",
      "p-value: 1.2532886673282086e-10\n"
     ]
    }
   ],
   "source": [
    "adfuller_test = adfuller(mydata2['p+n'], autolag= \"AIC\")\n",
    "print(\"ADF test statistic: {}\".format(adfuller_test[0]))\n",
    "print(\"p-value: {}\".format(adfuller_test[1]))"
   ]
  },
  {
   "cell_type": "code",
   "execution_count": 32,
   "id": "cec8cf81",
   "metadata": {},
   "outputs": [
    {
     "name": "stdout",
     "output_type": "stream",
     "text": [
      "ADF test statistic: -7.494945994111992\n",
      "p-value: 4.404770539131482e-11\n"
     ]
    }
   ],
   "source": [
    "adfuller_test = adfuller(mydata2['blog+cafe+kakao'], autolag= \"AIC\")\n",
    "print(\"ADF test statistic: {}\".format(adfuller_test[0]))\n",
    "print(\"p-value: {}\".format(adfuller_test[1]))"
   ]
  },
  {
   "cell_type": "code",
   "execution_count": 33,
   "id": "fd00e036",
   "metadata": {},
   "outputs": [
    {
     "name": "stdout",
     "output_type": "stream",
     "text": [
      "ADF test statistic: -7.6229063190510855\n",
      "p-value: 2.1053030885211496e-11\n"
     ]
    }
   ],
   "source": [
    "adfuller_test = adfuller(mydata2['naver+community'], autolag= \"AIC\")\n",
    "print(\"ADF test statistic: {}\".format(adfuller_test[0]))\n",
    "print(\"p-value: {}\".format(adfuller_test[1]))"
   ]
  },
  {
   "cell_type": "code",
   "execution_count": 34,
   "id": "cf2e907b",
   "metadata": {},
   "outputs": [
    {
     "name": "stdout",
     "output_type": "stream",
     "text": [
      "ADF test statistic: -8.603734574763996\n",
      "p-value: 6.759750415532157e-14\n"
     ]
    }
   ],
   "source": [
    "adfuller_test = adfuller(mydata2['news+firm'], autolag= \"AIC\")\n",
    "print(\"ADF test statistic: {}\".format(adfuller_test[0]))\n",
    "print(\"p-value: {}\".format(adfuller_test[1]))"
   ]
  },
  {
   "cell_type": "code",
   "execution_count": 35,
   "id": "857c93df",
   "metadata": {},
   "outputs": [
    {
     "name": "stdout",
     "output_type": "stream",
     "text": [
      "ADF test statistic: -55.36123007791009\n",
      "p-value: 0.0\n"
     ]
    }
   ],
   "source": [
    "adfuller_test = adfuller(mydata2['c_totalmedia'], autolag= \"AIC\")\n",
    "print(\"ADF test statistic: {}\".format(adfuller_test[0]))\n",
    "print(\"p-value: {}\".format(adfuller_test[1]))"
   ]
  },
  {
   "cell_type": "code",
   "execution_count": null,
   "id": "aedf17cc",
   "metadata": {},
   "outputs": [],
   "source": []
  }
 ],
 "metadata": {
  "kernelspec": {
   "display_name": "Python 3",
   "language": "python",
   "name": "python3"
  },
  "language_info": {
   "codemirror_mode": {
    "name": "ipython",
    "version": 3
   },
   "file_extension": ".py",
   "mimetype": "text/x-python",
   "name": "python",
   "nbconvert_exporter": "python",
   "pygments_lexer": "ipython3",
   "version": "3.8.8"
  }
 },
 "nbformat": 4,
 "nbformat_minor": 5
}
