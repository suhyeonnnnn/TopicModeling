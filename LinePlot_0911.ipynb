{
 "cells": [
  {
   "cell_type": "code",
   "execution_count": null,
   "id": "88bb3cb9",
   "metadata": {},
   "outputs": [],
   "source": [
    "import numpy as np\n",
    "import pandas as pd\n",
    "import seaborn as sns\n",
    "import pandas as pd\n",
    "import matplotlib.pyplot as plt\n",
    "from matplotlib import font_manager, rc\n",
    "import matplotlib\n",
    "import seaborn as sns\n",
    "%matplotlib inline\n",
    "sns.set()\n",
    "\n",
    "#한글 폰트 설정\n",
    "plt.rc('font', family='Malgun Gothic')\n",
    "\n",
    "#그래프에서 마이너스 표시되게\n",
    "matplotlib.rcParams['axes.unicode_minus']=False"
   ]
  },
  {
   "cell_type": "code",
   "execution_count": null,
   "id": "5dda5961",
   "metadata": {},
   "outputs": [],
   "source": [
    "df = pd.read_csv(\"master_game_210820.csv\")"
   ]
  },
  {
   "cell_type": "code",
   "execution_count": null,
   "id": "948ef6fa",
   "metadata": {},
   "outputs": [],
   "source": [
    "df.head()"
   ]
  },
  {
   "cell_type": "code",
   "execution_count": null,
   "id": "d0e5b9d2",
   "metadata": {},
   "outputs": [],
   "source": [
    "df.columns"
   ]
  },
  {
   "cell_type": "code",
   "execution_count": null,
   "id": "054e1226",
   "metadata": {},
   "outputs": [],
   "source": [
    "df['date2']=pd.to_datetime(df['date2'])"
   ]
  },
  {
   "cell_type": "code",
   "execution_count": null,
   "id": "d72435ad",
   "metadata": {},
   "outputs": [],
   "source": [
    "sns.set(rc={'figure.figsize':(12,8)})\n",
    "#sns.lineplot(x=\"date\", y=\"avgUsedTime\",data=new)\n",
    "\n",
    "sns.lineplot(x=\"date2\", y=\"timeCountTotal\",\n",
    "             data=df)"
   ]
  },
  {
   "cell_type": "code",
   "execution_count": null,
   "id": "c7681f60",
   "metadata": {},
   "outputs": [],
   "source": [
    "covid = pd.read_csv(\"C:/Users/sh921/Desktop/covid.csv\")\n",
    "covid.head()"
   ]
  },
  {
   "cell_type": "code",
   "execution_count": null,
   "id": "9b2d91c0",
   "metadata": {},
   "outputs": [],
   "source": [
    "df = pd.merge(df, covid, how='left', on = 'date')"
   ]
  },
  {
   "cell_type": "code",
   "execution_count": null,
   "id": "b856eb55",
   "metadata": {},
   "outputs": [],
   "source": [
    "df.to_csv('master_game_210911.csv',index=False)"
   ]
  },
  {
   "cell_type": "code",
   "execution_count": null,
   "id": "0ea43272",
   "metadata": {},
   "outputs": [],
   "source": [
    "corrr = df['gameName','gameGenre','timeCountTotal','avgUsedTime','userCountTotal','search','total','positive','negative','covid_simple']"
   ]
  },
  {
   "cell_type": "code",
   "execution_count": null,
   "id": "fa99ae04",
   "metadata": {},
   "outputs": [],
   "source": []
  }
 ],
 "metadata": {
  "kernelspec": {
   "display_name": "Python 3",
   "language": "python",
   "name": "python3"
  },
  "language_info": {
   "codemirror_mode": {
    "name": "ipython",
    "version": 3
   },
   "file_extension": ".py",
   "mimetype": "text/x-python",
   "name": "python",
   "nbconvert_exporter": "python",
   "pygments_lexer": "ipython3",
   "version": "3.8.8"
  }
 },
 "nbformat": 4,
 "nbformat_minor": 5
}
