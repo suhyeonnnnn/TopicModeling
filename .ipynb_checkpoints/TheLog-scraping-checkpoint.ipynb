{
 "cells": [
  {
   "cell_type": "markdown",
   "id": "884a9b6d",
   "metadata": {},
   "source": [
    "# 더로그 크롤링 코드"
   ]
  },
  {
   "cell_type": "markdown",
   "id": "b542da2e",
   "metadata": {},
   "source": [
    "사이트 링크\n",
    "- https://www.thelog.co.kr/index.do"
   ]
  },
  {
   "cell_type": "markdown",
   "id": "6d55f4a5",
   "metadata": {},
   "source": [
    "사이트 특징\n",
    "- 로그인 한 후 데이터 열람 가능\n",
    "- html 방식으로 데이터를 전송(x)\n",
    "- 유저가 특정 데이터 요청 -> 데이터 베이스에서 json 형태로 export -> 유저 화면에 보여짐"
   ]
  },
  {
   "cell_type": "code",
   "execution_count": 1,
   "id": "7864cce5",
   "metadata": {},
   "outputs": [],
   "source": [
    "#날짜 리스트 만들기\n",
    "from datetime import datetime, timedelta\n",
    "\n",
    "def date_range(start, end):\n",
    "    start = datetime.strptime(start, \"%Y%m%d\")\n",
    "    end = datetime.strptime(end, \"%Y%m%d\")\n",
    "    dates = [(start + timedelta(days=i)).strftime(\"%Y%m%d\") for i in range((end-start).days+1)]\n",
    "    return dates\n",
    "\n",
    "dates = date_range(\"20160531\", \"20161231\")\n",
    "dates.extend(date_range(\"20170101\", \"20171231\")) \n",
    "dates.extend(date_range(\"20180101\", \"20181231\"))\n",
    "dates.extend(date_range(\"20190101\", \"20191231\"))\n",
    "dates.extend(date_range(\"20200101\", \"20201231\"))\n",
    "dates.extend(date_range(\"20210101\", \"20210913\"))"
   ]
  },
  {
   "cell_type": "code",
   "execution_count": 2,
   "id": "1330ba1a",
   "metadata": {},
   "outputs": [],
   "source": [
    "#url 리스트 만들기 \n",
    "url = \"https://www.thelog.co.kr/api/service/gameRank.do?page=1&targetDate={}&gameDataType=A&moreBtnOption=false\"\n",
    "url_lists = []\n",
    "\n",
    "for date in dates:\n",
    "    url_lists.append(url.format(date)) "
   ]
  },
  {
   "cell_type": "code",
   "execution_count": 3,
   "id": "9db5ed9f",
   "metadata": {},
   "outputs": [],
   "source": [
    "#데이터 프레임 생성\n",
    "result = {\n",
    "    \"gameCode\": [],\n",
    "    \"gameName\": [],\n",
    "    \"gameRank\": [],\n",
    "    \"gameRankUpDown\": [],\n",
    "    \"gameShares\": [],\n",
    "    \"gameTypeShares\": [],\n",
    "    \"sharesUpDown\": [],\n",
    "    \"timeCountTotal\": [],\n",
    "    \"avgUsedTime\": [],\n",
    "    \"userCountTotal\": [],\n",
    "    \"useStoreCount\": [],\n",
    "    \"gameRegDate\": [],\n",
    "    \"publisher\":[],\n",
    "    \"payType\": [],\n",
    "    \"gameTypeName\":[],\n",
    "    'date':[]\n",
    "}"
   ]
  },
  {
   "cell_type": "code",
   "execution_count": 4,
   "id": "ad306d47",
   "metadata": {},
   "outputs": [],
   "source": [
    "#크롤링\n",
    "import requests\n",
    "import json \n",
    "\n",
    "#로그인 세팅\n",
    "login_url = 'https://www.thelog.co.kr/login/loginProc.do'\n",
    "session = requests.session()\n",
    "\n",
    "params = dict()\n",
    "params[\"loginId\"]=\"oper00\"\n",
    "params[\"loginPasswd\"]=\"Mktg202!\"\n",
    "\n",
    "res = session.post(login_url,data=params)\n",
    "res.raise_for_status()\n",
    "\n",
    "#데이터 가져오기 \n",
    "for url_list in url_lists:\n",
    "        res = session.get(url_list)\n",
    "        if res.status_code == requests.codes.ok:    \n",
    "            game_data = json.loads(res.text) \n",
    "            for rank in game_data['gameRanks']:\n",
    "                result[\"gameCode\"].append(rank[\"gameCode\"])\n",
    "                result['gameName'].append(rank['gameName'])\n",
    "                result[\"gameRank\"].append(rank[\"gameRank\"])\n",
    "                result[\"gameRankUpDown\"].append(rank[\"gameRankUpDown\"])\n",
    "                result[\"gameShares\"].append(rank[\"gameShares\"])\n",
    "                result[\"gameTypeShares\"].append(rank[\"gameTypeShares\"])\n",
    "                result[\"sharesUpDown\"].append(rank[\"sharesUpDown\"])\n",
    "                result[\"timeCountTotal\"].append(rank[\"timeCountTotal\"])\n",
    "                result[\"avgUsedTime\"].append(rank[\"avgUsedTime\"])\n",
    "                result[\"userCountTotal\"].append(rank[\"userCountTotal\"])\n",
    "                result[\"useStoreCount\"].append(rank[\"useStoreCount\"])\n",
    "                result[\"gameRegDate\"].append(rank[\"gameRegDate\"])\n",
    "                result[\"publisher\"].append(rank[\"publisher\"])\n",
    "                result[\"payType\"].append(rank[\"payType\"])\n",
    "                result[\"gameTypeName\"].append(rank[\"gameTypeName\"])\n",
    "                result['date'].append(url_list)\n",
    "\n",
    "        else:\n",
    "            print(\"Error code\")"
   ]
  },
  {
   "cell_type": "code",
   "execution_count": null,
   "id": "151a3044",
   "metadata": {},
   "outputs": [],
   "source": [
    "#데이터 프레임 변환 후 export\n",
    "import pandas as pd\n",
    "df = pd.DataFrame(result)\n",
    "df.head()\n",
    "df.to_csv('theLog-scrap2.csv')"
   ]
  },
  {
   "cell_type": "markdown",
   "id": "67f8788b",
   "metadata": {},
   "source": [
    "# 더로그 지역별 데이터 크롤링"
   ]
  },
  {
   "cell_type": "code",
   "execution_count": 3,
   "id": "5daac268",
   "metadata": {},
   "outputs": [],
   "source": [
    "#날짜 리스트 만들기\n",
    "from datetime import datetime, timedelta\n",
    "\n",
    "def date_range(start, end):\n",
    "    start = datetime.strptime(start, \"%Y.%m.%d\")\n",
    "    end = datetime.strptime(end, \"%Y.%m.%d\")\n",
    "    dates = [(start + timedelta(days=i)).strftime(\"%Y.%m.%d\") for i in range((end-start).days+1)]\n",
    "    return dates"
   ]
  },
  {
   "cell_type": "code",
   "execution_count": 4,
   "id": "a1e7eac9",
   "metadata": {},
   "outputs": [],
   "source": [
    "dates = date_range(\"2016.05.31\", \"2016.12.31\")\n",
    "dates.extend(date_range(\"2017.01.01\", \"2017.12.31\")) \n",
    "dates.extend(date_range(\"2018.01.01\", \"2018.12.31\"))\n",
    "dates.extend(date_range(\"2019.01.01\", \"2019.12.31\"))\n",
    "dates.extend(date_range(\"2020.01.01\", \"2020.12.31\"))\n",
    "dates.extend(date_range(\"2021.01.01\", \"2021.09.13\"))"
   ]
  },
  {
   "cell_type": "code",
   "execution_count": 32,
   "id": "8c609434",
   "metadata": {
    "scrolled": false
   },
   "outputs": [
    {
     "data": {
      "text/plain": [
       "[1, 2, 3, 4, 5, 6, 7, 8, 9, 10, 11, 12, 13, 14, 15, 16, 17, 18]"
      ]
     },
     "execution_count": 32,
     "metadata": {},
     "output_type": "execute_result"
    }
   ],
   "source": [
    "pages = list(range(1,19))\n",
    "pages"
   ]
  },
  {
   "cell_type": "code",
   "execution_count": 33,
   "id": "c34c7ce5",
   "metadata": {},
   "outputs": [],
   "source": [
    "#url 리스트 만들기 \n",
    "url = \"https://www.thelog.co.kr/api/service/getPressAreaTotalRank.do?menuType=1&gameType=&timeCode=&stime={}&etime={}&page={}\"\n",
    "url_lists = []\n",
    "\n",
    "for date in dates:\n",
    "    n1 = date\n",
    "    for page in pages:\n",
    "        n2 = page\n",
    "        url_lists.append(url.format(n1,n1,n2))"
   ]
  },
  {
   "cell_type": "code",
   "execution_count": 34,
   "id": "e7ac8009",
   "metadata": {},
   "outputs": [
    {
     "data": {
      "text/plain": [
       "34776"
      ]
     },
     "execution_count": 34,
     "metadata": {},
     "output_type": "execute_result"
    }
   ],
   "source": [
    "len(url_lists)"
   ]
  },
  {
   "cell_type": "code",
   "execution_count": 44,
   "id": "43e78ee9",
   "metadata": {},
   "outputs": [],
   "source": [
    "#데이터 프레임 생성\n",
    "result = {\n",
    "    \"gameCode\": [],\n",
    "    \"Total\": [],\n",
    "    \"Seoul\": [],\n",
    "    \"Gyeonggi\": [],\n",
    "    \"Incheon\": [],\n",
    "    \"Gangwon\": [],\n",
    "    \"Gyeongnam\": [],\n",
    "    \"Gyeongbuk\": [],\n",
    "    \"Gwangju\": [],\n",
    "    \"Daegu\": [],\n",
    "    \"Daejeon\": [],\n",
    "    \"Busan\": [],\n",
    "    \"Ulsan\":[],\n",
    "    \"Jeonnam\": [],\n",
    "    \"Jeonbuk\":[],\n",
    "    \"Jeju\":[],\n",
    "    \"Chungnam\":[],\n",
    "    \"Chungbuk\":[],\n",
    "    \n",
    "    \"TotalUserCount\":[],\n",
    "    \"SeoulUserCount\":[],\n",
    "    \"GyeonggiUserCount\":[],\n",
    "    \"IncheonUserCount\":[],\n",
    "    \"GangwonUserCount\":[],\n",
    "    \"GyeongnamUserCount\":[],\n",
    "    \"GyeongbukUserCount\":[],\n",
    "    \"GwangjuUserCount\":[],\n",
    "    \"DaeguUserCount\":[],\n",
    "    \"DaejeonUserCount\":[],\n",
    "    \"BusanUserCount\":[],\n",
    "    \"UlsanUserCount\":[],\n",
    "    \"JeonnamUserCount\":[],\n",
    "    \"JeonbukUserCount\":[],\n",
    "    \"JejuUserCount\":[],\n",
    "    \"ChungnamUserCount\":[],\n",
    "    \"ChungbukUserCount\":[],\n",
    "    \n",
    "    \n",
    "    \"gameName\":[],\n",
    "    \"publisher\":[],\n",
    "    \"gameTypeName\":[],\n",
    "    \"gameRank\":[],\n",
    "    'date':[]\n",
    "    \n",
    "}"
   ]
  },
  {
   "cell_type": "code",
   "execution_count": null,
   "id": "41eeae47",
   "metadata": {},
   "outputs": [
    {
     "name": "stderr",
     "output_type": "stream",
     "text": [
      " 84%|███████████████████████████████████████████████████████████████▋            | 29128/34776 [12:44<02:31, 37.20it/s]"
     ]
    }
   ],
   "source": [
    "from tqdm import tqdm\n",
    "\n",
    "#크롤링\n",
    "import requests\n",
    "import json \n",
    "\n",
    "#로그인 세팅\n",
    "login_url = 'https://www.thelog.co.kr/login/loginProc.do'\n",
    "session = requests.session()\n",
    "\n",
    "params = dict()\n",
    "params[\"loginId\"]=\"oper00\"\n",
    "params[\"loginPasswd\"]=\"Mktg202!\"\n",
    "\n",
    "res = session.post(login_url,data=params)\n",
    "res.raise_for_status()\n",
    "\n",
    "#데이터 가져오기 \n",
    "for url_list in tqdm(url_lists):\n",
    "        res = session.get(url_list)\n",
    "        if res.status_code == requests.codes.ok:    \n",
    "            game_data = json.loads(res.text) \n",
    "            for rank in game_data['myGameRanks']:\n",
    "                result[\"gameCode\"].append(rank[\"gameCode\"])\n",
    "                result['date'].append(url_list)\n",
    "                \n",
    "\n",
    "        else:\n",
    "            print(\"Error code\")"
   ]
  },
  {
   "cell_type": "code",
   "execution_count": null,
   "id": "d2182ec4",
   "metadata": {},
   "outputs": [],
   "source": [
    "result.head()"
   ]
  },
  {
   "cell_type": "code",
   "execution_count": null,
   "id": "ffdac7c6",
   "metadata": {},
   "outputs": [],
   "source": [
    "from tqdm import notebook\n",
    "\n",
    "#크롤링\n",
    "import requests\n",
    "import json \n",
    "\n",
    "#로그인 세팅\n",
    "login_url = 'https://www.thelog.co.kr/login/loginProc.do'\n",
    "session = requests.session()\n",
    "\n",
    "params = dict()\n",
    "params[\"loginId\"]=\"oper00\"\n",
    "params[\"loginPasswd\"]=\"Mktg202!\"\n",
    "\n",
    "res = session.post(login_url,data=params)\n",
    "res.raise_for_status()\n",
    "\n",
    "#데이터 가져오기 \n",
    "for url_list in tqurl_lists:\n",
    "        res = session.get(url_list)\n",
    "        if res.status_code == requests.codes.ok:    \n",
    "            game_data = json.loads(res.text) \n",
    "            for rank in game_data['myGameRanks']:\n",
    "                result[\"gameCode\"].append(rank[\"gameCode\"])\n",
    "                result[\"Total\"].append(rank[\"areaTotal\"])\n",
    "                result['Seoul'].append(rank[\"areaSeoul\"])\n",
    "                result['Gyeonggi'].append(rank[\"areaGyeonggi\"])\n",
    "                result['Incheon'].append(rank[\"areaIncheon\"])\n",
    "                result['Gangwon'].append(rank[\"areaGangwon\"])\n",
    "                result['Gyeongnam'].append(rank[\"areaGyeongnam\"])\n",
    "                result['Gyeongbuk'].append(rank[\"areaGyeongbuk\"])\n",
    "                result['Gwangju'].append(rank[\"areaGwangju\"])\n",
    "                result['Daegu'].append(rank[\"areaDaegu\"])\n",
    "                result['Daejeon'].append(rank[\"areaDaejeon\"])\n",
    "                result['Busan'].append(rank[\"areaBusan\"])\n",
    "                result['Ulsan'].append(rank[\"areaUlsan\"])\n",
    "                result['Jeonnam'].append(rank[\"areaJeonnam\"])\n",
    "                result['Jeonbuk'].append(rank[\"areaJeonbuk\"])\n",
    "                result['Jeju'].append(rank[\"areaJeju\"])\n",
    "                result['Chungnam'].append(rank[\"areaChungnam\"])\n",
    "                result['Chungbuk'].append(rank[\"areaChungbuk\"])\n",
    "                \n",
    "                result['TotalUserCount'].append(rank[\"areaTotalUserCount\"])\n",
    "                result['SeoulUserCount'].append(rank[\"areaSeoulUserCount\"])\n",
    "                result['GyeonggiUserCount'].append(rank[\"areaGyeonggiUserCount\"])\n",
    "                result['IncheonUserCount'].append(rank[\"areaIncheonUserCount\"])\n",
    "                result['GangwonUserCount'].append(rank[\"areaGangwonUserCount\"])\n",
    "                result['GyeongnamUserCount'].append(rank[\"areaGyeongnamUserCount\"])\n",
    "                result['GyeongbukUserCount'].append(rank[\"areaGyeongbukUserCount\"])\n",
    "                result['GwangjuUserCount'].append(rank[\"areaGwangjuUserCount\"])\n",
    "                result['DaeguUserCount'].append(rank[\"areaDaeguUserCount\"])\n",
    "                result['DaejeonUserCount'].append(rank[\"areaDaejeonUserCount\"])\n",
    "                result['BusanUserCount'].append(rank[\"areaBusanUserCount\"])\n",
    "                result['UlsanUserCount'].append(rank[\"areaUlsanUserCount\"])\n",
    "                result['JeonnamUserCount'].append(rank[\"areaJeonnamUserCount\"])\n",
    "                result['JeonbukUserCount'].append(rank[\"areaJeonbukUserCount\"])\n",
    "                result['JejuUserCount'].append(rank[\"areaJejuUserCount\"])\n",
    "                result['ChungnamUserCount'].append(rank[\"areaChungnamUserCount\"])\n",
    "                result['ChungbukUserCount'].append(rank[\"areaChungbukUserCount\"])\n",
    "                \n",
    "                result['gameName'].append(rank[\"gameName\"])\n",
    "                result['publisher'].append(rank[\"publisher\"])\n",
    "                result['gameTypeName'].append(rank['gameTypeName'])\n",
    "                result['gameRank'].append(rank['gameRank'])\n",
    "                result['date'].append(url_list)\n",
    "                \n",
    "                \n",
    "        else:\n",
    "            print(\"Error code\")"
   ]
  }
 ],
 "metadata": {
  "kernelspec": {
   "display_name": "Python 3",
   "language": "python",
   "name": "python3"
  },
  "language_info": {
   "codemirror_mode": {
    "name": "ipython",
    "version": 3
   },
   "file_extension": ".py",
   "mimetype": "text/x-python",
   "name": "python",
   "nbconvert_exporter": "python",
   "pygments_lexer": "ipython3",
   "version": "3.8.8"
  }
 },
 "nbformat": 4,
 "nbformat_minor": 5
}
