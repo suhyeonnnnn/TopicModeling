{
 "cells": [
  {
   "cell_type": "code",
   "execution_count": 1,
   "id": "b1336148",
   "metadata": {},
   "outputs": [],
   "source": [
    "import numpy as np\n",
    "import seaborn as sns\n",
    "import matplotlib.pyplot as plt\n",
    "import pandas as pd\n",
    "\n",
    "import statsmodels.api as sm\n",
    "from statsmodels.tsa.api import VAR\n",
    "from statsmodels.tsa.stattools import adfuller, kpss, acf, pacf, grangercausalitytests\n",
    "\n",
    "import matplotlib.pyplot as plt\n",
    "from statsmodels.graphics.tsaplots import plot_acf, plot_pacf"
   ]
  },
  {
   "cell_type": "code",
   "execution_count": 2,
   "id": "becc7d21",
   "metadata": {},
   "outputs": [
    {
     "data": {
      "text/html": [
       "<div>\n",
       "<style scoped>\n",
       "    .dataframe tbody tr th:only-of-type {\n",
       "        vertical-align: middle;\n",
       "    }\n",
       "\n",
       "    .dataframe tbody tr th {\n",
       "        vertical-align: top;\n",
       "    }\n",
       "\n",
       "    .dataframe thead th {\n",
       "        text-align: right;\n",
       "    }\n",
       "</style>\n",
       "<table border=\"1\" class=\"dataframe\">\n",
       "  <thead>\n",
       "    <tr style=\"text-align: right;\">\n",
       "      <th></th>\n",
       "      <th>gameName</th>\n",
       "      <th>gameID</th>\n",
       "      <th>date</th>\n",
       "      <th>gameShares</th>\n",
       "      <th>gameGenreShares</th>\n",
       "      <th>timeCountTotal</th>\n",
       "      <th>search</th>\n",
       "      <th>total</th>\n",
       "      <th>p+n</th>\n",
       "      <th>positive</th>\n",
       "      <th>...</th>\n",
       "      <th>c_totalmedia</th>\n",
       "      <th>c_p_n</th>\n",
       "      <th>c_pos</th>\n",
       "      <th>c_neg</th>\n",
       "      <th>cnum_nonzero</th>\n",
       "      <th>c_avg_media</th>\n",
       "      <th>c_avg_p+n</th>\n",
       "      <th>c_avg_pos</th>\n",
       "      <th>c_avg_neg</th>\n",
       "      <th>c_avg_neu</th>\n",
       "    </tr>\n",
       "  </thead>\n",
       "  <tbody>\n",
       "    <tr>\n",
       "      <th>0</th>\n",
       "      <td>리그오브레전드</td>\n",
       "      <td>1</td>\n",
       "      <td>2020-12-31 0:00</td>\n",
       "      <td>43.96</td>\n",
       "      <td>93.28</td>\n",
       "      <td>20.021294</td>\n",
       "      <td>6.54793</td>\n",
       "      <td>11.945078</td>\n",
       "      <td>10.618386</td>\n",
       "      <td>10.043027</td>\n",
       "      <td>...</td>\n",
       "      <td>5.700440</td>\n",
       "      <td>4.807355</td>\n",
       "      <td>4.392317</td>\n",
       "      <td>3.000000</td>\n",
       "      <td>2.807355</td>\n",
       "      <td>3.247928</td>\n",
       "      <td>2.459432</td>\n",
       "      <td>2.115477</td>\n",
       "      <td>1.115477</td>\n",
       "      <td>2.321928</td>\n",
       "    </tr>\n",
       "    <tr>\n",
       "      <th>1</th>\n",
       "      <td>리그오브레전드</td>\n",
       "      <td>1</td>\n",
       "      <td>2020-12-30 0:00</td>\n",
       "      <td>44.90</td>\n",
       "      <td>93.55</td>\n",
       "      <td>19.928705</td>\n",
       "      <td>6.17327</td>\n",
       "      <td>11.915879</td>\n",
       "      <td>10.531381</td>\n",
       "      <td>9.894818</td>\n",
       "      <td>...</td>\n",
       "      <td>11.532356</td>\n",
       "      <td>10.260920</td>\n",
       "      <td>9.681238</td>\n",
       "      <td>8.668885</td>\n",
       "      <td>2.807355</td>\n",
       "      <td>8.949827</td>\n",
       "      <td>7.681824</td>\n",
       "      <td>7.105035</td>\n",
       "      <td>6.101538</td>\n",
       "      <td>8.180738</td>\n",
       "    </tr>\n",
       "    <tr>\n",
       "      <th>2</th>\n",
       "      <td>리그오브레전드</td>\n",
       "      <td>1</td>\n",
       "      <td>2020-12-29 0:00</td>\n",
       "      <td>44.37</td>\n",
       "      <td>93.55</td>\n",
       "      <td>19.853389</td>\n",
       "      <td>5.82425</td>\n",
       "      <td>11.942515</td>\n",
       "      <td>10.633903</td>\n",
       "      <td>10.080818</td>\n",
       "      <td>...</td>\n",
       "      <td>11.534789</td>\n",
       "      <td>10.258566</td>\n",
       "      <td>9.672425</td>\n",
       "      <td>8.679480</td>\n",
       "      <td>2.807355</td>\n",
       "      <td>8.952256</td>\n",
       "      <td>7.679480</td>\n",
       "      <td>7.096276</td>\n",
       "      <td>6.112005</td>\n",
       "      <td>8.186527</td>\n",
       "    </tr>\n",
       "    <tr>\n",
       "      <th>3</th>\n",
       "      <td>리그오브레전드</td>\n",
       "      <td>1</td>\n",
       "      <td>2020-12-28 0:00</td>\n",
       "      <td>44.04</td>\n",
       "      <td>93.63</td>\n",
       "      <td>19.867525</td>\n",
       "      <td>5.72779</td>\n",
       "      <td>12.107217</td>\n",
       "      <td>10.804938</td>\n",
       "      <td>10.178665</td>\n",
       "      <td>...</td>\n",
       "      <td>11.529431</td>\n",
       "      <td>10.258566</td>\n",
       "      <td>9.675957</td>\n",
       "      <td>8.672425</td>\n",
       "      <td>2.807355</td>\n",
       "      <td>8.946906</td>\n",
       "      <td>7.679480</td>\n",
       "      <td>7.099786</td>\n",
       "      <td>6.105035</td>\n",
       "      <td>8.177420</td>\n",
       "    </tr>\n",
       "    <tr>\n",
       "      <th>4</th>\n",
       "      <td>리그오브레전드</td>\n",
       "      <td>1</td>\n",
       "      <td>2020-12-27 0:00</td>\n",
       "      <td>42.77</td>\n",
       "      <td>93.34</td>\n",
       "      <td>20.208988</td>\n",
       "      <td>6.05270</td>\n",
       "      <td>11.829723</td>\n",
       "      <td>10.440869</td>\n",
       "      <td>9.764872</td>\n",
       "      <td>...</td>\n",
       "      <td>11.536733</td>\n",
       "      <td>10.265615</td>\n",
       "      <td>9.682995</td>\n",
       "      <td>8.679480</td>\n",
       "      <td>2.807355</td>\n",
       "      <td>8.954196</td>\n",
       "      <td>7.686501</td>\n",
       "      <td>7.106781</td>\n",
       "      <td>6.112005</td>\n",
       "      <td>8.184875</td>\n",
       "    </tr>\n",
       "  </tbody>\n",
       "</table>\n",
       "<p>5 rows × 47 columns</p>\n",
       "</div>"
      ],
      "text/plain": [
       "  gameName  gameID             date  gameShares  gameGenreShares  \\\n",
       "0  리그오브레전드       1  2020-12-31 0:00       43.96            93.28   \n",
       "1  리그오브레전드       1  2020-12-30 0:00       44.90            93.55   \n",
       "2  리그오브레전드       1  2020-12-29 0:00       44.37            93.55   \n",
       "3  리그오브레전드       1  2020-12-28 0:00       44.04            93.63   \n",
       "4  리그오브레전드       1  2020-12-27 0:00       42.77            93.34   \n",
       "\n",
       "   timeCountTotal   search      total        p+n   positive  ...  \\\n",
       "0       20.021294  6.54793  11.945078  10.618386  10.043027  ...   \n",
       "1       19.928705  6.17327  11.915879  10.531381   9.894818  ...   \n",
       "2       19.853389  5.82425  11.942515  10.633903  10.080818  ...   \n",
       "3       19.867525  5.72779  12.107217  10.804938  10.178665  ...   \n",
       "4       20.208988  6.05270  11.829723  10.440869   9.764872  ...   \n",
       "\n",
       "   c_totalmedia      c_p_n     c_pos     c_neg  cnum_nonzero  c_avg_media  \\\n",
       "0      5.700440   4.807355  4.392317  3.000000      2.807355     3.247928   \n",
       "1     11.532356  10.260920  9.681238  8.668885      2.807355     8.949827   \n",
       "2     11.534789  10.258566  9.672425  8.679480      2.807355     8.952256   \n",
       "3     11.529431  10.258566  9.675957  8.672425      2.807355     8.946906   \n",
       "4     11.536733  10.265615  9.682995  8.679480      2.807355     8.954196   \n",
       "\n",
       "   c_avg_p+n  c_avg_pos  c_avg_neg  c_avg_neu  \n",
       "0   2.459432   2.115477   1.115477   2.321928  \n",
       "1   7.681824   7.105035   6.101538   8.180738  \n",
       "2   7.679480   7.096276   6.112005   8.186527  \n",
       "3   7.679480   7.099786   6.105035   8.177420  \n",
       "4   7.686501   7.106781   6.112005   8.184875  \n",
       "\n",
       "[5 rows x 47 columns]"
      ]
     },
     "execution_count": 2,
     "metadata": {},
     "output_type": "execute_result"
    }
   ],
   "source": [
    "df = pd.read_csv('C:\\\\Users\\\\sh921\\\\Desktop\\\\gamemaster_0820.csv')\n",
    "df.head()"
   ]
  },
  {
   "cell_type": "markdown",
   "id": "ce544989",
   "metadata": {},
   "source": [
    "# ADF test\n",
    "\n",
    "dependent variable"
   ]
  },
  {
   "cell_type": "code",
   "execution_count": 39,
   "id": "e7065d77",
   "metadata": {},
   "outputs": [],
   "source": [
    "mydata = df[[\"gameShares\",\"gameGenreShares\", 'timeCountTotal']]\n",
    "mydata.index = df[\"date\"]"
   ]
  },
  {
   "cell_type": "code",
   "execution_count": 40,
   "id": "56ec86cc",
   "metadata": {},
   "outputs": [
    {
     "name": "stdout",
     "output_type": "stream",
     "text": [
      "ADF test statistic: -14.405490312749519\n",
      "p-value: 8.371225957766097e-27\n"
     ]
    }
   ],
   "source": [
    "adfuller_test = adfuller(mydata['gameShares'], autolag= \"AIC\")\n",
    "print(\"ADF test statistic: {}\".format(adfuller_test[0]))\n",
    "print(\"p-value: {}\".format(adfuller_test[1]))"
   ]
  },
  {
   "cell_type": "code",
   "execution_count": 41,
   "id": "e7088d3a",
   "metadata": {},
   "outputs": [
    {
     "name": "stdout",
     "output_type": "stream",
     "text": [
      "ADF test statistic: -8.075877871315678\n",
      "p-value: 1.5060488156068051e-12\n"
     ]
    }
   ],
   "source": [
    "adfuller_test = adfuller(mydata['gameGenreShares'], autolag= \"AIC\")\n",
    "print(\"ADF test statistic: {}\".format(adfuller_test[0]))\n",
    "print(\"p-value: {}\".format(adfuller_test[1]))"
   ]
  },
  {
   "cell_type": "code",
   "execution_count": 43,
   "id": "90c40003",
   "metadata": {},
   "outputs": [
    {
     "name": "stdout",
     "output_type": "stream",
     "text": [
      "ADF test statistic: -6.183992718465242\n",
      "p-value: 6.354402642191283e-08\n"
     ]
    }
   ],
   "source": [
    "adfuller_test = adfuller(mydata['timeCountTotal'], autolag= \"AIC\")\n",
    "print(\"ADF test statistic: {}\".format(adfuller_test[0]))\n",
    "print(\"p-value: {}\".format(adfuller_test[1]))"
   ]
  },
  {
   "cell_type": "markdown",
   "id": "0dcd7934",
   "metadata": {},
   "source": [
    "## main independent variable"
   ]
  },
  {
   "cell_type": "code",
   "execution_count": 49,
   "id": "f6b8b252",
   "metadata": {},
   "outputs": [],
   "source": [
    "mydata2 = df[[\"search\",\"total\", 'positive',\"negative\"]]\n",
    "mydata2.index = df[\"date\"]"
   ]
  },
  {
   "cell_type": "code",
   "execution_count": 50,
   "id": "75290c40",
   "metadata": {},
   "outputs": [
    {
     "name": "stdout",
     "output_type": "stream",
     "text": [
      "ADF test statistic: -8.563325617039698\n",
      "p-value: 8.577714550995174e-14\n"
     ]
    }
   ],
   "source": [
    "adfuller_test = adfuller(mydata2['search'], autolag= \"AIC\")\n",
    "print(\"ADF test statistic: {}\".format(adfuller_test[0]))\n",
    "print(\"p-value: {}\".format(adfuller_test[1]))"
   ]
  },
  {
   "cell_type": "code",
   "execution_count": 51,
   "id": "c8595167",
   "metadata": {},
   "outputs": [
    {
     "name": "stdout",
     "output_type": "stream",
     "text": [
      "ADF test statistic: -6.99909526412217\n",
      "p-value: 7.401321268200912e-10\n"
     ]
    }
   ],
   "source": [
    "adfuller_test = adfuller(mydata2['total'], autolag= \"AIC\")\n",
    "print(\"ADF test statistic: {}\".format(adfuller_test[0]))\n",
    "print(\"p-value: {}\".format(adfuller_test[1]))"
   ]
  },
  {
   "cell_type": "code",
   "execution_count": 52,
   "id": "2b931992",
   "metadata": {},
   "outputs": [
    {
     "name": "stdout",
     "output_type": "stream",
     "text": [
      "ADF test statistic: -7.496474465403201\n",
      "p-value: 4.36619297893344e-11\n"
     ]
    }
   ],
   "source": [
    "adfuller_test = adfuller(mydata2['positive'], autolag= \"AIC\")\n",
    "print(\"ADF test statistic: {}\".format(adfuller_test[0]))\n",
    "print(\"p-value: {}\".format(adfuller_test[1]))"
   ]
  },
  {
   "cell_type": "code",
   "execution_count": 53,
   "id": "86afc180",
   "metadata": {},
   "outputs": [
    {
     "name": "stdout",
     "output_type": "stream",
     "text": [
      "ADF test statistic: -7.881948758641697\n",
      "p-value: 4.6773091979912625e-12\n"
     ]
    }
   ],
   "source": [
    "adfuller_test = adfuller(mydata2['negative'], autolag= \"AIC\")\n",
    "print(\"ADF test statistic: {}\".format(adfuller_test[0]))\n",
    "print(\"p-value: {}\".format(adfuller_test[1]))"
   ]
  },
  {
   "cell_type": "markdown",
   "id": "c10cc7f0",
   "metadata": {},
   "source": [
    "## submodel independent variable"
   ]
  },
  {
   "cell_type": "code",
   "execution_count": 55,
   "id": "c041e508",
   "metadata": {},
   "outputs": [],
   "source": [
    "mydata3 = df[[\"sns\",\"image\", 'blog',\"firm\",\"snsPosi\",\"imagePosi\",\"blogPosi\",\"firmPosi\",\"snsNega\",\"imageNega\",\"blogNega\",\"firmNega\"]]\n",
    "mydata3.index = df[\"date\"]"
   ]
  },
  {
   "cell_type": "code",
   "execution_count": 56,
   "id": "d4705544",
   "metadata": {},
   "outputs": [
    {
     "name": "stdout",
     "output_type": "stream",
     "text": [
      "ADF test statistic: -8.54411868367738\n",
      "p-value: 9.605734111199323e-14\n"
     ]
    }
   ],
   "source": [
    "adfuller_test = adfuller(mydata3['sns'], autolag= \"AIC\")\n",
    "print(\"ADF test statistic: {}\".format(adfuller_test[0]))\n",
    "print(\"p-value: {}\".format(adfuller_test[1]))"
   ]
  },
  {
   "cell_type": "code",
   "execution_count": 57,
   "id": "d8f0ddf9",
   "metadata": {},
   "outputs": [
    {
     "name": "stdout",
     "output_type": "stream",
     "text": [
      "ADF test statistic: -7.880895635370797\n",
      "p-value: 4.706112258344786e-12\n"
     ]
    }
   ],
   "source": [
    "adfuller_test = adfuller(mydata3['image'], autolag= \"AIC\")\n",
    "print(\"ADF test statistic: {}\".format(adfuller_test[0]))\n",
    "print(\"p-value: {}\".format(adfuller_test[1]))"
   ]
  },
  {
   "cell_type": "code",
   "execution_count": 58,
   "id": "b9eb8cbe",
   "metadata": {},
   "outputs": [
    {
     "name": "stdout",
     "output_type": "stream",
     "text": [
      "ADF test statistic: -7.703224564222089\n",
      "p-value: 1.3222688146760904e-11\n"
     ]
    }
   ],
   "source": [
    "adfuller_test = adfuller(mydata3['blog'], autolag= \"AIC\")\n",
    "print(\"ADF test statistic: {}\".format(adfuller_test[0]))\n",
    "print(\"p-value: {}\".format(adfuller_test[1]))"
   ]
  },
  {
   "cell_type": "code",
   "execution_count": 59,
   "id": "77e7673c",
   "metadata": {},
   "outputs": [
    {
     "name": "stdout",
     "output_type": "stream",
     "text": [
      "ADF test statistic: -8.603734574763996\n",
      "p-value: 6.759750415532157e-14\n"
     ]
    }
   ],
   "source": [
    "adfuller_test = adfuller(mydata3['firm'], autolag= \"AIC\")\n",
    "print(\"ADF test statistic: {}\".format(adfuller_test[0]))\n",
    "print(\"p-value: {}\".format(adfuller_test[1]))"
   ]
  },
  {
   "cell_type": "code",
   "execution_count": 60,
   "id": "cec8cf81",
   "metadata": {},
   "outputs": [
    {
     "name": "stdout",
     "output_type": "stream",
     "text": [
      "ADF test statistic: -9.711141629075549\n",
      "p-value: 1.0108299072529778e-16\n"
     ]
    }
   ],
   "source": [
    "adfuller_test = adfuller(mydata3['snsPosi'], autolag= \"AIC\")\n",
    "print(\"ADF test statistic: {}\".format(adfuller_test[0]))\n",
    "print(\"p-value: {}\".format(adfuller_test[1]))"
   ]
  },
  {
   "cell_type": "code",
   "execution_count": 62,
   "id": "fd00e036",
   "metadata": {},
   "outputs": [
    {
     "name": "stdout",
     "output_type": "stream",
     "text": [
      "ADF test statistic: -8.695366369903585\n",
      "p-value: 3.9382773842060275e-14\n"
     ]
    }
   ],
   "source": [
    "adfuller_test = adfuller(mydata3['imagePosi'], autolag= \"AIC\")\n",
    "print(\"ADF test statistic: {}\".format(adfuller_test[0]))\n",
    "print(\"p-value: {}\".format(adfuller_test[1]))"
   ]
  },
  {
   "cell_type": "code",
   "execution_count": 34,
   "id": "cf2e907b",
   "metadata": {},
   "outputs": [
    {
     "name": "stdout",
     "output_type": "stream",
     "text": [
      "ADF test statistic: -8.603734574763996\n",
      "p-value: 6.759750415532157e-14\n"
     ]
    }
   ],
   "source": [
    "adfuller_test = adfuller(mydata3['snsNega'], autolag= \"AIC\")\n",
    "print(\"ADF test statistic: {}\".format(adfuller_test[0]))\n",
    "print(\"p-value: {}\".format(adfuller_test[1]))"
   ]
  },
  {
   "cell_type": "code",
   "execution_count": 35,
   "id": "857c93df",
   "metadata": {},
   "outputs": [
    {
     "name": "stdout",
     "output_type": "stream",
     "text": [
      "ADF test statistic: -55.36123007791009\n",
      "p-value: 0.0\n"
     ]
    }
   ],
   "source": [
    "adfuller_test = adfuller(mydata3['imageNega'], autolag= \"AIC\")\n",
    "print(\"ADF test statistic: {}\".format(adfuller_test[0]))\n",
    "print(\"p-value: {}\".format(adfuller_test[1]))"
   ]
  },
  {
   "cell_type": "code",
   "execution_count": 63,
   "id": "8b9078c7",
   "metadata": {},
   "outputs": [
    {
     "name": "stdout",
     "output_type": "stream",
     "text": [
      "ADF test statistic: -8.51030321100911\n",
      "p-value: 1.172369895425655e-13\n"
     ]
    }
   ],
   "source": [
    "adfuller_test = adfuller(mydata3['blogNega'], autolag= \"AIC\")\n",
    "print(\"ADF test statistic: {}\".format(adfuller_test[0]))\n",
    "print(\"p-value: {}\".format(adfuller_test[1]))"
   ]
  },
  {
   "cell_type": "markdown",
   "id": "1977da15",
   "metadata": {},
   "source": [
    "# KPS TEST\n"
   ]
  },
  {
   "cell_type": "code",
   "execution_count": 65,
   "id": "dc64df33",
   "metadata": {},
   "outputs": [
    {
     "name": "stdout",
     "output_type": "stream",
     "text": [
      "KPSS Test: gameShares time series\n",
      "KPSS Statistic: 4.720960155083162\n",
      "p-value: 0.01\n",
      "num lags: 58\n",
      "Critial Values:\n",
      " 10% : 0.347\n",
      " 5% : 0.463\n",
      " 2.5% : 0.574\n",
      " 1% : 0.739\n",
      "KPSS Test: gameGenreShares time series\n",
      "KPSS Statistic: 1.440751704748388\n",
      "p-value: 0.01\n",
      "num lags: 58\n",
      "Critial Values:\n",
      " 10% : 0.347\n",
      " 5% : 0.463\n",
      " 2.5% : 0.574\n",
      " 1% : 0.739\n",
      "KPSS Test: timeCountTotal time series\n",
      "KPSS Statistic: 24.567721455699406\n",
      "p-value: 0.01\n",
      "num lags: 58\n",
      "Critial Values:\n",
      " 10% : 0.347\n",
      " 5% : 0.463\n",
      " 2.5% : 0.574\n",
      " 1% : 0.739\n"
     ]
    },
    {
     "name": "stderr",
     "output_type": "stream",
     "text": [
      "C:\\Users\\sh921\\anaconda3\\lib\\site-packages\\statsmodels\\tsa\\stattools.py:1906: InterpolationWarning: The test statistic is outside of the range of p-values available in the\n",
      "look-up table. The actual p-value is smaller than the p-value returned.\n",
      "\n",
      "  warnings.warn(\n",
      "C:\\Users\\sh921\\anaconda3\\lib\\site-packages\\statsmodels\\tsa\\stattools.py:1906: InterpolationWarning: The test statistic is outside of the range of p-values available in the\n",
      "look-up table. The actual p-value is smaller than the p-value returned.\n",
      "\n",
      "  warnings.warn(\n",
      "C:\\Users\\sh921\\anaconda3\\lib\\site-packages\\statsmodels\\tsa\\stattools.py:1906: InterpolationWarning: The test statistic is outside of the range of p-values available in the\n",
      "look-up table. The actual p-value is smaller than the p-value returned.\n",
      "\n",
      "  warnings.warn(\n"
     ]
    }
   ],
   "source": [
    "#dependent variable\n",
    "from statsmodels.tsa.stattools import kpss\n",
    "def kpss_test(df):\n",
    "    statistic, p_value, n_lags, critical_values = kpss(df.values)\n",
    "    \n",
    "    print(f'KPSS Statistic: {statistic}') \n",
    "    print(f'p-value: {p_value}') \n",
    "    print(f'num lags: {n_lags}') \n",
    "    print('Critial Values:') \n",
    "    for key, value in critical_values.items(): \n",
    "        print(f' {key} : {value}') \n",
    "        \n",
    "print('KPSS Test: gameShares time series') \n",
    "kpss_test(mydata['gameShares']) \n",
    "print('KPSS Test: gameGenreShares time series') \n",
    "kpss_test(mydata['gameGenreShares']) \n",
    "print('KPSS Test: timeCountTotal time series') \n",
    "kpss_test(mydata['timeCountTotal']) \n",
    "\n"
   ]
  },
  {
   "cell_type": "code",
   "execution_count": 66,
   "id": "8fffab82",
   "metadata": {},
   "outputs": [
    {
     "name": "stdout",
     "output_type": "stream",
     "text": [
      "KPSS Test: search time series\n",
      "KPSS Statistic: 2.4124791268297594\n",
      "p-value: 0.01\n",
      "num lags: 58\n",
      "Critial Values:\n",
      " 10% : 0.347\n",
      " 5% : 0.463\n",
      " 2.5% : 0.574\n",
      " 1% : 0.739\n",
      "KPSS Test: total time series\n",
      "KPSS Statistic: 27.94880100002088\n",
      "p-value: 0.01\n",
      "num lags: 58\n",
      "Critial Values:\n",
      " 10% : 0.347\n",
      " 5% : 0.463\n",
      " 2.5% : 0.574\n",
      " 1% : 0.739\n",
      "KPSS Test: positive time series\n",
      "KPSS Statistic: 24.356841609918426\n",
      "p-value: 0.01\n",
      "num lags: 58\n",
      "Critial Values:\n",
      " 10% : 0.347\n",
      " 5% : 0.463\n",
      " 2.5% : 0.574\n",
      " 1% : 0.739\n",
      "KPSS Test: positive time series\n",
      "KPSS Statistic: 20.126144182119805\n",
      "p-value: 0.01\n",
      "num lags: 58\n",
      "Critial Values:\n",
      " 10% : 0.347\n",
      " 5% : 0.463\n",
      " 2.5% : 0.574\n",
      " 1% : 0.739\n"
     ]
    },
    {
     "name": "stderr",
     "output_type": "stream",
     "text": [
      "C:\\Users\\sh921\\anaconda3\\lib\\site-packages\\statsmodels\\tsa\\stattools.py:1906: InterpolationWarning: The test statistic is outside of the range of p-values available in the\n",
      "look-up table. The actual p-value is smaller than the p-value returned.\n",
      "\n",
      "  warnings.warn(\n",
      "C:\\Users\\sh921\\anaconda3\\lib\\site-packages\\statsmodels\\tsa\\stattools.py:1906: InterpolationWarning: The test statistic is outside of the range of p-values available in the\n",
      "look-up table. The actual p-value is smaller than the p-value returned.\n",
      "\n",
      "  warnings.warn(\n",
      "C:\\Users\\sh921\\anaconda3\\lib\\site-packages\\statsmodels\\tsa\\stattools.py:1906: InterpolationWarning: The test statistic is outside of the range of p-values available in the\n",
      "look-up table. The actual p-value is smaller than the p-value returned.\n",
      "\n",
      "  warnings.warn(\n",
      "C:\\Users\\sh921\\anaconda3\\lib\\site-packages\\statsmodels\\tsa\\stattools.py:1906: InterpolationWarning: The test statistic is outside of the range of p-values available in the\n",
      "look-up table. The actual p-value is smaller than the p-value returned.\n",
      "\n",
      "  warnings.warn(\n"
     ]
    }
   ],
   "source": [
    "#main model independent variable\n",
    "        \n",
    "print('KPSS Test: search time series') \n",
    "kpss_test(mydata2['search']) \n",
    "\n",
    "print('KPSS Test: total time series') \n",
    "kpss_test(mydata2['total']) \n",
    "\n",
    "print('KPSS Test: positive time series') \n",
    "kpss_test(mydata2['positive']) \n",
    "\n",
    "print('KPSS Test: positive time series') \n",
    "kpss_test(mydata2['negative']) "
   ]
  },
  {
   "cell_type": "code",
   "execution_count": 68,
   "id": "6422320d",
   "metadata": {},
   "outputs": [
    {
     "name": "stdout",
     "output_type": "stream",
     "text": [
      "KPSS Test: sns time series\n",
      "KPSS Statistic: 15.770466057669566\n",
      "p-value: 0.01\n",
      "num lags: 58\n",
      "Critial Values:\n",
      " 10% : 0.347\n",
      " 5% : 0.463\n",
      " 2.5% : 0.574\n",
      " 1% : 0.739\n",
      "KPSS Test: image time series\n",
      "KPSS Statistic: 16.84581187091078\n",
      "p-value: 0.01\n",
      "num lags: 58\n",
      "Critial Values:\n",
      " 10% : 0.347\n",
      " 5% : 0.463\n",
      " 2.5% : 0.574\n",
      " 1% : 0.739\n",
      "KPSS Test: blog time series\n",
      "KPSS Statistic: 22.606912691012234\n",
      "p-value: 0.01\n",
      "num lags: 58\n",
      "Critial Values:\n",
      " 10% : 0.347\n",
      " 5% : 0.463\n",
      " 2.5% : 0.574\n",
      " 1% : 0.739\n",
      "KPSS Test: firm time series\n",
      "KPSS Statistic: 19.51543391315337\n",
      "p-value: 0.01\n",
      "num lags: 58\n",
      "Critial Values:\n",
      " 10% : 0.347\n",
      " 5% : 0.463\n",
      " 2.5% : 0.574\n",
      " 1% : 0.739\n",
      "KPSS Test: snsPosi time series\n",
      "KPSS Statistic: 9.378188857619332\n",
      "p-value: 0.01\n",
      "num lags: 58\n",
      "Critial Values:\n",
      " 10% : 0.347\n",
      " 5% : 0.463\n",
      " 2.5% : 0.574\n",
      " 1% : 0.739\n",
      "KPSS Test: imagePosi time series\n",
      "KPSS Statistic: 9.793947832512208\n",
      "p-value: 0.01\n",
      "num lags: 58\n",
      "Critial Values:\n",
      " 10% : 0.347\n",
      " 5% : 0.463\n",
      " 2.5% : 0.574\n",
      " 1% : 0.739\n",
      "KPSS Test: blogPosi time series\n",
      "KPSS Statistic: 19.446926161833233\n",
      "p-value: 0.01\n",
      "num lags: 58\n",
      "Critial Values:\n",
      " 10% : 0.347\n",
      " 5% : 0.463\n",
      " 2.5% : 0.574\n",
      " 1% : 0.739\n",
      "KPSS Test: firmPosi time series\n",
      "KPSS Statistic: 16.34144629009006\n",
      "p-value: 0.01\n",
      "num lags: 58\n",
      "Critial Values:\n",
      " 10% : 0.347\n",
      " 5% : 0.463\n",
      " 2.5% : 0.574\n",
      " 1% : 0.739\n",
      "KPSS Test: snsNega time series\n",
      "KPSS Statistic: 11.28116281993914\n",
      "p-value: 0.01\n",
      "num lags: 58\n",
      "Critial Values:\n",
      " 10% : 0.347\n",
      " 5% : 0.463\n",
      " 2.5% : 0.574\n",
      " 1% : 0.739\n",
      "KPSS Test: imageNega time series\n",
      "KPSS Statistic: 10.366148711184728\n",
      "p-value: 0.01\n",
      "num lags: 58\n",
      "Critial Values:\n",
      " 10% : 0.347\n",
      " 5% : 0.463\n",
      " 2.5% : 0.574\n",
      " 1% : 0.739\n",
      "KPSS Test: blogNega time series\n",
      "KPSS Statistic: 16.24736636021247\n",
      "p-value: 0.01\n",
      "num lags: 58\n",
      "Critial Values:\n",
      " 10% : 0.347\n",
      " 5% : 0.463\n",
      " 2.5% : 0.574\n",
      " 1% : 0.739\n",
      "KPSS Test: firmNega time series\n",
      "KPSS Statistic: 7.789981625733519\n",
      "p-value: 0.01\n",
      "num lags: 58\n",
      "Critial Values:\n",
      " 10% : 0.347\n",
      " 5% : 0.463\n",
      " 2.5% : 0.574\n",
      " 1% : 0.739\n"
     ]
    },
    {
     "name": "stderr",
     "output_type": "stream",
     "text": [
      "C:\\Users\\sh921\\anaconda3\\lib\\site-packages\\statsmodels\\tsa\\stattools.py:1906: InterpolationWarning: The test statistic is outside of the range of p-values available in the\n",
      "look-up table. The actual p-value is smaller than the p-value returned.\n",
      "\n",
      "  warnings.warn(\n",
      "C:\\Users\\sh921\\anaconda3\\lib\\site-packages\\statsmodels\\tsa\\stattools.py:1906: InterpolationWarning: The test statistic is outside of the range of p-values available in the\n",
      "look-up table. The actual p-value is smaller than the p-value returned.\n",
      "\n",
      "  warnings.warn(\n",
      "C:\\Users\\sh921\\anaconda3\\lib\\site-packages\\statsmodels\\tsa\\stattools.py:1906: InterpolationWarning: The test statistic is outside of the range of p-values available in the\n",
      "look-up table. The actual p-value is smaller than the p-value returned.\n",
      "\n",
      "  warnings.warn(\n",
      "C:\\Users\\sh921\\anaconda3\\lib\\site-packages\\statsmodels\\tsa\\stattools.py:1906: InterpolationWarning: The test statistic is outside of the range of p-values available in the\n",
      "look-up table. The actual p-value is smaller than the p-value returned.\n",
      "\n",
      "  warnings.warn(\n",
      "C:\\Users\\sh921\\anaconda3\\lib\\site-packages\\statsmodels\\tsa\\stattools.py:1906: InterpolationWarning: The test statistic is outside of the range of p-values available in the\n",
      "look-up table. The actual p-value is smaller than the p-value returned.\n",
      "\n",
      "  warnings.warn(\n",
      "C:\\Users\\sh921\\anaconda3\\lib\\site-packages\\statsmodels\\tsa\\stattools.py:1906: InterpolationWarning: The test statistic is outside of the range of p-values available in the\n",
      "look-up table. The actual p-value is smaller than the p-value returned.\n",
      "\n",
      "  warnings.warn(\n",
      "C:\\Users\\sh921\\anaconda3\\lib\\site-packages\\statsmodels\\tsa\\stattools.py:1906: InterpolationWarning: The test statistic is outside of the range of p-values available in the\n",
      "look-up table. The actual p-value is smaller than the p-value returned.\n",
      "\n",
      "  warnings.warn(\n",
      "C:\\Users\\sh921\\anaconda3\\lib\\site-packages\\statsmodels\\tsa\\stattools.py:1906: InterpolationWarning: The test statistic is outside of the range of p-values available in the\n",
      "look-up table. The actual p-value is smaller than the p-value returned.\n",
      "\n",
      "  warnings.warn(\n",
      "C:\\Users\\sh921\\anaconda3\\lib\\site-packages\\statsmodels\\tsa\\stattools.py:1906: InterpolationWarning: The test statistic is outside of the range of p-values available in the\n",
      "look-up table. The actual p-value is smaller than the p-value returned.\n",
      "\n",
      "  warnings.warn(\n",
      "C:\\Users\\sh921\\anaconda3\\lib\\site-packages\\statsmodels\\tsa\\stattools.py:1906: InterpolationWarning: The test statistic is outside of the range of p-values available in the\n",
      "look-up table. The actual p-value is smaller than the p-value returned.\n",
      "\n",
      "  warnings.warn(\n",
      "C:\\Users\\sh921\\anaconda3\\lib\\site-packages\\statsmodels\\tsa\\stattools.py:1906: InterpolationWarning: The test statistic is outside of the range of p-values available in the\n",
      "look-up table. The actual p-value is smaller than the p-value returned.\n",
      "\n",
      "  warnings.warn(\n",
      "C:\\Users\\sh921\\anaconda3\\lib\\site-packages\\statsmodels\\tsa\\stattools.py:1906: InterpolationWarning: The test statistic is outside of the range of p-values available in the\n",
      "look-up table. The actual p-value is smaller than the p-value returned.\n",
      "\n",
      "  warnings.warn(\n"
     ]
    }
   ],
   "source": [
    "print('KPSS Test: sns time series') \n",
    "kpss_test(mydata3['sns']) \n",
    "print('KPSS Test: image time series') \n",
    "kpss_test(mydata3['image']) \n",
    "print('KPSS Test: blog time series') \n",
    "kpss_test(mydata3['blog']) \n",
    "print('KPSS Test: firm time series') \n",
    "kpss_test(mydata3['firm']) \n",
    "print('KPSS Test: snsPosi time series') \n",
    "kpss_test(mydata3['snsPosi']) \n",
    "print('KPSS Test: imagePosi time series') \n",
    "kpss_test(mydata3['imagePosi']) \n",
    "print('KPSS Test: blogPosi time series') \n",
    "kpss_test(mydata3['blogPosi']) \n",
    "print('KPSS Test: firmPosi time series') \n",
    "kpss_test(mydata3['firmPosi']) \n",
    "print('KPSS Test: snsNega time series') \n",
    "kpss_test(mydata3['snsNega']) \n",
    "print('KPSS Test: imageNega time series') \n",
    "kpss_test(mydata3['imageNega']) \n",
    "print('KPSS Test: blogNega time series') \n",
    "kpss_test(mydata3['blogNega']) \n",
    "print('KPSS Test: firmNega time series') \n",
    "kpss_test(mydata3['firmNega']) \n"
   ]
  },
  {
   "cell_type": "markdown",
   "id": "3f2b6b84",
   "metadata": {},
   "source": [
    "# acf, pacf "
   ]
  },
  {
   "cell_type": "code",
   "execution_count": 72,
   "id": "e502d8c4",
   "metadata": {},
   "outputs": [
    {
     "data": {
      "image/png": "[encoded data removed]",
      "text/plain": [
       "<Figure size 432x288 with 1 Axes>"
      ]
     },
     "metadata": {
      "needs_background": "light"
     },
     "output_type": "display_data"
    }
   ],
   "source": [
    "mydata[\"gameShares\"].plot()\n",
    "plt.show()"
   ]
  },
  {
   "cell_type": "code",
   "execution_count": 76,
   "id": "cebea744",
   "metadata": {},
   "outputs": [
    {
     "data": {
      "text/plain": [
       "<function matplotlib.pyplot.show(close=None, block=None)>"
      ]
     },
     "execution_count": 76,
     "metadata": {},
     "output_type": "execute_result"
    },
    {
     "data": {
      "image/png": "[encoded data removed]",
      "text/plain": [
       "<Figure size 432x288 with 1 Axes>"
      ]
     },
     "metadata": {
      "needs_background": "light"
     },
     "output_type": "display_data"
    },
    {
     "data": {
      "image/png": "[encoded data removed]",
      "text/plain": [
       "<Figure size 432x288 with 1 Axes>"
      ]
     },
     "metadata": {
      "needs_background": "light"
     },
     "output_type": "display_data"
    },
    {
     "data": {
      "text/plain": [
       "<Figure size 1440x288 with 0 Axes>"
      ]
     },
     "metadata": {},
     "output_type": "display_data"
    }
   ],
   "source": [
    "mydata = df[[\"gameShares\"]]\n",
    "mydata.index = df[\"date\"]\n",
    "\n",
    "plot_acf(mydata)\n",
    "plot_pacf(mydata)\n",
    "plt.figure(figsize=(20,4))\n",
    "plt.show"
   ]
  },
  {
   "cell_type": "code",
   "execution_count": 77,
   "id": "0b7edbf6",
   "metadata": {},
   "outputs": [
    {
     "data": {
      "text/plain": [
       "<function matplotlib.pyplot.show(close=None, block=None)>"
      ]
     },
     "execution_count": 77,
     "metadata": {},
     "output_type": "execute_result"
    },
    {
     "data": {
      "image/png": "[encoded data removed]",
      "text/plain": [
       "<Figure size 432x288 with 1 Axes>"
      ]
     },
     "metadata": {
      "needs_background": "light"
     },
     "output_type": "display_data"
    },
    {
     "data": {
      "image/png": "[encoded data removed]",
      "text/plain": [
       "<Figure size 432x288 with 1 Axes>"
      ]
     },
     "metadata": {
      "needs_background": "light"
     },
     "output_type": "display_data"
    },
    {
     "data": {
      "text/plain": [
       "<Figure size 1440x288 with 0 Axes>"
      ]
     },
     "metadata": {},
     "output_type": "display_data"
    }
   ],
   "source": [
    "mydata = df[[\"gameGenreShares\"]]\n",
    "mydata.index = df[\"date\"]\n",
    "\n",
    "plot_acf(mydata)\n",
    "plot_pacf(mydata)\n",
    "plt.figure(figsize=(20,4))\n",
    "plt.show"
   ]
  },
  {
   "cell_type": "code",
   "execution_count": 78,
   "id": "c07c88f6",
   "metadata": {},
   "outputs": [
    {
     "data": {
      "text/plain": [
       "<function matplotlib.pyplot.show(close=None, block=None)>"
      ]
     },
     "execution_count": 78,
     "metadata": {},
     "output_type": "execute_result"
    },
    {
     "data": {
      "image/png": "[encoded data removed]",
      "text/plain": [
       "<Figure size 432x288 with 1 Axes>"
      ]
     },
     "metadata": {
      "needs_background": "light"
     },
     "output_type": "display_data"
    },
    {
     "data": {
      "image/png": "[encoded data removed]",
      "text/plain": [
       "<Figure size 432x288 with 1 Axes>"
      ]
     },
     "metadata": {
      "needs_background": "light"
     },
     "output_type": "display_data"
    },
    {
     "data": {
      "text/plain": [
       "<Figure size 1440x288 with 0 Axes>"
      ]
     },
     "metadata": {},
     "output_type": "display_data"
    }
   ],
   "source": [
    "mydata = df[[\"timeCountTotal\"]]\n",
    "mydata.index = df[\"date\"]\n",
    "\n",
    "plot_acf(mydata)\n",
    "plot_pacf(mydata)\n",
    "plt.figure(figsize=(20,4))\n",
    "plt.show"
   ]
  },
  {
   "cell_type": "code",
   "execution_count": 79,
   "id": "b9d5fc47",
   "metadata": {},
   "outputs": [
    {
     "data": {
      "text/plain": [
       "<function matplotlib.pyplot.show(close=None, block=None)>"
      ]
     },
     "execution_count": 79,
     "metadata": {},
     "output_type": "execute_result"
    },
    {
     "data": {
      "image/png": "[encoded data removed]",
      "text/plain": [
       "<Figure size 432x288 with 1 Axes>"
      ]
     },
     "metadata": {
      "needs_background": "light"
     },
     "output_type": "display_data"
    },
    {
     "data": {
      "image/png": "[encoded data removed]",
      "text/plain": [
       "<Figure size 432x288 with 1 Axes>"
      ]
     },
     "metadata": {
      "needs_background": "light"
     },
     "output_type": "display_data"
    },
    {
     "data": {
      "text/plain": [
       "<Figure size 1440x288 with 0 Axes>"
      ]
     },
     "metadata": {},
     "output_type": "display_data"
    }
   ],
   "source": [
    "mydata = df[[\"search\"]]\n",
    "mydata.index = df[\"date\"]\n",
    "\n",
    "plot_acf(mydata)\n",
    "plot_pacf(mydata)\n",
    "plt.figure(figsize=(20,4))\n",
    "plt.show"
   ]
  },
  {
   "cell_type": "code",
   "execution_count": 80,
   "id": "e645d3ce",
   "metadata": {},
   "outputs": [
    {
     "data": {
      "text/plain": [
       "<function matplotlib.pyplot.show(close=None, block=None)>"
      ]
     },
     "execution_count": 80,
     "metadata": {},
     "output_type": "execute_result"
    },
    {
     "data": {
      "image/png": "[encoded data removed]",
      "text/plain": [
       "<Figure size 432x288 with 1 Axes>"
      ]
     },
     "metadata": {
      "needs_background": "light"
     },
     "output_type": "display_data"
    },
    {
     "data": {
      "image/png": "[encoded data removed]",
      "text/plain": [
       "<Figure size 432x288 with 1 Axes>"
      ]
     },
     "metadata": {
      "needs_background": "light"
     },
     "output_type": "display_data"
    },
    {
     "data": {
      "text/plain": [
       "<Figure size 1440x288 with 0 Axes>"
      ]
     },
     "metadata": {},
     "output_type": "display_data"
    }
   ],
   "source": [
    "mydata = df[[\"total\"]]\n",
    "mydata.index = df[\"date\"]\n",
    "\n",
    "plot_acf(mydata)\n",
    "plot_pacf(mydata)\n",
    "plt.figure(figsize=(20,4))\n",
    "plt.show"
   ]
  },
  {
   "cell_type": "code",
   "execution_count": 85,
   "id": "a27fe14c",
   "metadata": {},
   "outputs": [
    {
     "data": {
      "text/plain": [
       "<function matplotlib.pyplot.show(close=None, block=None)>"
      ]
     },
     "execution_count": 85,
     "metadata": {},
     "output_type": "execute_result"
    },
    {
     "data": {
      "image/png": "[encoded data removed]",
      "text/plain": [
       "<Figure size 432x288 with 1 Axes>"
      ]
     },
     "metadata": {
      "needs_background": "light"
     },
     "output_type": "display_data"
    },
    {
     "data": {
      "image/png": "[encoded data removed]",
      "text/plain": [
       "<Figure size 432x288 with 1 Axes>"
      ]
     },
     "metadata": {
      "needs_background": "light"
     },
     "output_type": "display_data"
    },
    {
     "data": {
      "text/plain": [
       "<Figure size 1440x288 with 0 Axes>"
      ]
     },
     "metadata": {},
     "output_type": "display_data"
    }
   ],
   "source": [
    "mydata = df[[\"positive\"]]\n",
    "mydata.index = df[\"date\"]\n",
    "\n",
    "plot_acf(mydata)\n",
    "plot_pacf(mydata)\n",
    "plt.figure(figsize=(20,4))\n",
    "plt.show"
   ]
  },
  {
   "cell_type": "code",
   "execution_count": 86,
   "id": "d44029ff",
   "metadata": {},
   "outputs": [
    {
     "data": {
      "text/plain": [
       "<function matplotlib.pyplot.show(close=None, block=None)>"
      ]
     },
     "execution_count": 86,
     "metadata": {},
     "output_type": "execute_result"
    },
    {
     "data": {
      "image/png": "[encoded data removed]",
      "text/plain": [
       "<Figure size 432x288 with 1 Axes>"
      ]
     },
     "metadata": {
      "needs_background": "light"
     },
     "output_type": "display_data"
    },
    {
     "data": {
      "image/png": "[encoded data removed]",
      "text/plain": [
       "<Figure size 432x288 with 1 Axes>"
      ]
     },
     "metadata": {
      "needs_background": "light"
     },
     "output_type": "display_data"
    },
    {
     "data": {
      "text/plain": [
       "<Figure size 1440x288 with 0 Axes>"
      ]
     },
     "metadata": {},
     "output_type": "display_data"
    }
   ],
   "source": [
    "mydata = df[[\"negative\"]]\n",
    "mydata.index = df[\"date\"]\n",
    "\n",
    "plot_acf(mydata)\n",
    "plot_pacf(mydata)\n",
    "plt.figure(figsize=(20,4))\n",
    "plt.show"
   ]
  },
  {
   "cell_type": "code",
   "execution_count": 87,
   "id": "af4a7e62",
   "metadata": {},
   "outputs": [
    {
     "data": {
      "text/plain": [
       "<function matplotlib.pyplot.show(close=None, block=None)>"
      ]
     },
     "execution_count": 87,
     "metadata": {},
     "output_type": "execute_result"
    },
    {
     "data": {
      "image/png": "[encoded data removed]",
      "text/plain": [
       "<Figure size 432x288 with 1 Axes>"
      ]
     },
     "metadata": {
      "needs_background": "light"
     },
     "output_type": "display_data"
    },
    {
     "data": {
      "image/png": "[encoded data removed]",
      "text/plain": [
       "<Figure size 432x288 with 1 Axes>"
      ]
     },
     "metadata": {
      "needs_background": "light"
     },
     "output_type": "display_data"
    },
    {
     "data": {
      "text/plain": [
       "<Figure size 1440x288 with 0 Axes>"
      ]
     },
     "metadata": {},
     "output_type": "display_data"
    }
   ],
   "source": [
    "mydata = df[[\"sns\"]]\n",
    "mydata.index = df[\"date\"]\n",
    "\n",
    "plot_acf(mydata)\n",
    "plot_pacf(mydata)\n",
    "plt.figure(figsize=(20,4))\n",
    "plt.show"
   ]
  },
  {
   "cell_type": "code",
   "execution_count": 88,
   "id": "04c728c5",
   "metadata": {},
   "outputs": [
    {
     "data": {
      "text/plain": [
       "<function matplotlib.pyplot.show(close=None, block=None)>"
      ]
     },
     "execution_count": 88,
     "metadata": {},
     "output_type": "execute_result"
    },
    {
     "data": {
      "image/png": "[encoded data removed]",
      "text/plain": [
       "<Figure size 432x288 with 1 Axes>"
      ]
     },
     "metadata": {
      "needs_background": "light"
     },
     "output_type": "display_data"
    },
    {
     "data": {
      "image/png": "[encoded data removed]",
      "text/plain": [
       "<Figure size 432x288 with 1 Axes>"
      ]
     },
     "metadata": {
      "needs_background": "light"
     },
     "output_type": "display_data"
    },
    {
     "data": {
      "text/plain": [
       "<Figure size 1440x288 with 0 Axes>"
      ]
     },
     "metadata": {},
     "output_type": "display_data"
    }
   ],
   "source": [
    "mydata = df[[\"image\"]]\n",
    "mydata.index = df[\"date\"]\n",
    "\n",
    "plot_acf(mydata)\n",
    "plot_pacf(mydata)\n",
    "plt.figure(figsize=(20,4))\n",
    "plt.show"
   ]
  },
  {
   "cell_type": "code",
   "execution_count": 89,
   "id": "9f5075b2",
   "metadata": {},
   "outputs": [
    {
     "data": {
      "text/plain": [
       "<function matplotlib.pyplot.show(close=None, block=None)>"
      ]
     },
     "execution_count": 89,
     "metadata": {},
     "output_type": "execute_result"
    },
    {
     "data": {
      "image/png": "[encoded data removed]",
      "text/plain": [
       "<Figure size 432x288 with 1 Axes>"
      ]
     },
     "metadata": {
      "needs_background": "light"
     },
     "output_type": "display_data"
    },
    {
     "data": {
      "image/png": "[encoded data removed]",
      "text/plain": [
       "<Figure size 432x288 with 1 Axes>"
      ]
     },
     "metadata": {
      "needs_background": "light"
     },
     "output_type": "display_data"
    },
    {
     "data": {
      "text/plain": [
       "<Figure size 1440x288 with 0 Axes>"
      ]
     },
     "metadata": {},
     "output_type": "display_data"
    }
   ],
   "source": [
    "mydata = df[['blog']]\n",
    "mydata.index = df[\"date\"]\n",
    "\n",
    "plot_acf(mydata)\n",
    "plot_pacf(mydata)\n",
    "plt.figure(figsize=(20,4))\n",
    "plt.show"
   ]
  },
  {
   "cell_type": "code",
   "execution_count": 90,
   "id": "f95e7010",
   "metadata": {},
   "outputs": [
    {
     "data": {
      "text/plain": [
       "<function matplotlib.pyplot.show(close=None, block=None)>"
      ]
     },
     "execution_count": 90,
     "metadata": {},
     "output_type": "execute_result"
    },
    {
     "data": {
      "image/png": "[encoded data removed]",
      "text/plain": [
       "<Figure size 432x288 with 1 Axes>"
      ]
     },
     "metadata": {
      "needs_background": "light"
     },
     "output_type": "display_data"
    },
    {
     "data": {
      "image/png": "[encoded data removed]",
      "text/plain": [
       "<Figure size 432x288 with 1 Axes>"
      ]
     },
     "metadata": {
      "needs_background": "light"
     },
     "output_type": "display_data"
    },
    {
     "data": {
      "text/plain": [
       "<Figure size 1440x288 with 0 Axes>"
      ]
     },
     "metadata": {},
     "output_type": "display_data"
    }
   ],
   "source": [
    "mydata = df[['firm']]\n",
    "mydata.index = df[\"date\"]\n",
    "\n",
    "plot_acf(mydata)\n",
    "plot_pacf(mydata)\n",
    "plt.figure(figsize=(20,4))\n",
    "plt.show"
   ]
  },
  {
   "cell_type": "code",
   "execution_count": 91,
   "id": "614f5228",
   "metadata": {},
   "outputs": [
    {
     "data": {
      "text/plain": [
       "<function matplotlib.pyplot.show(close=None, block=None)>"
      ]
     },
     "execution_count": 91,
     "metadata": {},
     "output_type": "execute_result"
    },
    {
     "data": {
      "image/png": "[encoded data removed]",
      "text/plain": [
       "<Figure size 432x288 with 1 Axes>"
      ]
     },
     "metadata": {
      "needs_background": "light"
     },
     "output_type": "display_data"
    },
    {
     "data": {
      "image/png": "[encoded data removed]",
      "text/plain": [
       "<Figure size 432x288 with 1 Axes>"
      ]
     },
     "metadata": {
      "needs_background": "light"
     },
     "output_type": "display_data"
    },
    {
     "data": {
      "text/plain": [
       "<Figure size 1440x288 with 0 Axes>"
      ]
     },
     "metadata": {},
     "output_type": "display_data"
    }
   ],
   "source": [
    "mydata = df[['snsPosi']]\n",
    "mydata.index = df[\"date\"]\n",
    "\n",
    "plot_acf(mydata)\n",
    "plot_pacf(mydata)\n",
    "plt.figure(figsize=(20,4))\n",
    "plt.show"
   ]
  },
  {
   "cell_type": "code",
   "execution_count": 92,
   "id": "718c67c3",
   "metadata": {},
   "outputs": [
    {
     "data": {
      "text/plain": [
       "<function matplotlib.pyplot.show(close=None, block=None)>"
      ]
     },
     "execution_count": 92,
     "metadata": {},
     "output_type": "execute_result"
    },
    {
     "data": {
      "image/png": "[encoded data removed]",
      "text/plain": [
       "<Figure size 432x288 with 1 Axes>"
      ]
     },
     "metadata": {
      "needs_background": "light"
     },
     "output_type": "display_data"
    },
    {
     "data": {
      "image/png": "[encoded data removed]",
      "text/plain": [
       "<Figure size 432x288 with 1 Axes>"
      ]
     },
     "metadata": {
      "needs_background": "light"
     },
     "output_type": "display_data"
    },
    {
     "data": {
      "text/plain": [
       "<Figure size 1440x288 with 0 Axes>"
      ]
     },
     "metadata": {},
     "output_type": "display_data"
    }
   ],
   "source": [
    "mydata = df[['imagePosi']]\n",
    "mydata.index = df[\"date\"]\n",
    "\n",
    "plot_acf(mydata)\n",
    "plot_pacf(mydata)\n",
    "plt.figure(figsize=(20,4))\n",
    "plt.show"
   ]
  },
  {
   "cell_type": "code",
   "execution_count": 93,
   "id": "f19d2c9a",
   "metadata": {},
   "outputs": [
    {
     "data": {
      "text/plain": [
       "<function matplotlib.pyplot.show(close=None, block=None)>"
      ]
     },
     "execution_count": 93,
     "metadata": {},
     "output_type": "execute_result"
    },
    {
     "data": {
      "image/png": "[encoded data removed]",
      "text/plain": [
       "<Figure size 432x288 with 1 Axes>"
      ]
     },
     "metadata": {
      "needs_background": "light"
     },
     "output_type": "display_data"
    },
    {
     "data": {
      "image/png": "[encoded data removed]",
      "text/plain": [
       "<Figure size 432x288 with 1 Axes>"
      ]
     },
     "metadata": {
      "needs_background": "light"
     },
     "output_type": "display_data"
    },
    {
     "data": {
      "text/plain": [
       "<Figure size 1440x288 with 0 Axes>"
      ]
     },
     "metadata": {},
     "output_type": "display_data"
    }
   ],
   "source": [
    "mydata = df[['blogPosi']]\n",
    "mydata.index = df[\"date\"]\n",
    "\n",
    "plot_acf(mydata)\n",
    "plot_pacf(mydata)\n",
    "plt.figure(figsize=(20,4))\n",
    "plt.show"
   ]
  },
  {
   "cell_type": "code",
   "execution_count": 94,
   "id": "c3a3aa21",
   "metadata": {},
   "outputs": [
    {
     "data": {
      "text/plain": [
       "<function matplotlib.pyplot.show(close=None, block=None)>"
      ]
     },
     "execution_count": 94,
     "metadata": {},
     "output_type": "execute_result"
    },
    {
     "data": {
      "image/png": "[encoded data removed]",
      "text/plain": [
       "<Figure size 432x288 with 1 Axes>"
      ]
     },
     "metadata": {
      "needs_background": "light"
     },
     "output_type": "display_data"
    },
    {
     "data": {
      "image/png": "[encoded data removed]",
      "text/plain": [
       "<Figure size 432x288 with 1 Axes>"
      ]
     },
     "metadata": {
      "needs_background": "light"
     },
     "output_type": "display_data"
    },
    {
     "data": {
      "text/plain": [
       "<Figure size 1440x288 with 0 Axes>"
      ]
     },
     "metadata": {},
     "output_type": "display_data"
    }
   ],
   "source": [
    "mydata = df[['firmPosi']]\n",
    "mydata.index = df[\"date\"]\n",
    "\n",
    "plot_acf(mydata)\n",
    "plot_pacf(mydata)\n",
    "plt.figure(figsize=(20,4))\n",
    "plt.show"
   ]
  },
  {
   "cell_type": "code",
   "execution_count": 95,
   "id": "b89ec726",
   "metadata": {},
   "outputs": [
    {
     "data": {
      "text/plain": [
       "<function matplotlib.pyplot.show(close=None, block=None)>"
      ]
     },
     "execution_count": 95,
     "metadata": {},
     "output_type": "execute_result"
    },
    {
     "data": {
      "image/png": "[encoded data removed]",
      "text/plain": [
       "<Figure size 432x288 with 1 Axes>"
      ]
     },
     "metadata": {
      "needs_background": "light"
     },
     "output_type": "display_data"
    },
    {
     "data": {
      "image/png": "[encoded data removed]",
      "text/plain": [
       "<Figure size 432x288 with 1 Axes>"
      ]
     },
     "metadata": {
      "needs_background": "light"
     },
     "output_type": "display_data"
    },
    {
     "data": {
      "text/plain": [
       "<Figure size 1440x288 with 0 Axes>"
      ]
     },
     "metadata": {},
     "output_type": "display_data"
    }
   ],
   "source": [
    "mydata = df[['snsNega']]\n",
    "mydata.index = df[\"date\"]\n",
    "\n",
    "plot_acf(mydata)\n",
    "plot_pacf(mydata)\n",
    "plt.figure(figsize=(20,4))\n",
    "plt.show"
   ]
  },
  {
   "cell_type": "code",
   "execution_count": 96,
   "id": "12cb1168",
   "metadata": {},
   "outputs": [
    {
     "data": {
      "text/plain": [
       "<function matplotlib.pyplot.show(close=None, block=None)>"
      ]
     },
     "execution_count": 96,
     "metadata": {},
     "output_type": "execute_result"
    },
    {
     "data": {
      "image/png": "[encoded data removed]",
      "text/plain": [
       "<Figure size 432x288 with 1 Axes>"
      ]
     },
     "metadata": {
      "needs_background": "light"
     },
     "output_type": "display_data"
    },
    {
     "data": {
      "image/png": "[encoded data removed]",
      "text/plain": [
       "<Figure size 432x288 with 1 Axes>"
      ]
     },
     "metadata": {
      "needs_background": "light"
     },
     "output_type": "display_data"
    },
    {
     "data": {
      "text/plain": [
       "<Figure size 1440x288 with 0 Axes>"
      ]
     },
     "metadata": {},
     "output_type": "display_data"
    }
   ],
   "source": [
    "mydata = df[['imageNega']]\n",
    "mydata.index = df[\"date\"]\n",
    "\n",
    "plot_acf(mydata)\n",
    "plot_pacf(mydata)\n",
    "plt.figure(figsize=(20,4))\n",
    "plt.show"
   ]
  },
  {
   "cell_type": "code",
   "execution_count": 97,
   "id": "5f879cfd",
   "metadata": {},
   "outputs": [
    {
     "data": {
      "text/plain": [
       "<function matplotlib.pyplot.show(close=None, block=None)>"
      ]
     },
     "execution_count": 97,
     "metadata": {},
     "output_type": "execute_result"
    },
    {
     "data": {
      "image/png": "[encoded data removed]",
      "text/plain": [
       "<Figure size 432x288 with 1 Axes>"
      ]
     },
     "metadata": {
      "needs_background": "light"
     },
     "output_type": "display_data"
    },
    {
     "data": {
      "image/png": "[encoded data removed]",
      "text/plain": [
       "<Figure size 432x288 with 1 Axes>"
      ]
     },
     "metadata": {
      "needs_background": "light"
     },
     "output_type": "display_data"
    },
    {
     "data": {
      "text/plain": [
       "<Figure size 1440x288 with 0 Axes>"
      ]
     },
     "metadata": {},
     "output_type": "display_data"
    }
   ],
   "source": [
    "mydata = df[['blogNega']]\n",
    "mydata.index = df[\"date\"]\n",
    "\n",
    "plot_acf(mydata)\n",
    "plot_pacf(mydata)\n",
    "plt.figure(figsize=(20,4))\n",
    "plt.show"
   ]
  },
  {
   "cell_type": "code",
   "execution_count": 98,
   "id": "a2945bd9",
   "metadata": {},
   "outputs": [
    {
     "data": {
      "text/plain": [
       "<function matplotlib.pyplot.show(close=None, block=None)>"
      ]
     },
     "execution_count": 98,
     "metadata": {},
     "output_type": "execute_result"
    },
    {
     "data": {
      "image/png": "[encoded data removed]",
      "text/plain": [
       "<Figure size 432x288 with 1 Axes>"
      ]
     },
     "metadata": {
      "needs_background": "light"
     },
     "output_type": "display_data"
    },
    {
     "data": {
      "image/png": "[encoded data removed]",
      "text/plain": [
       "<Figure size 432x288 with 1 Axes>"
      ]
     },
     "metadata": {
      "needs_background": "light"
     },
     "output_type": "display_data"
    },
    {
     "data": {
      "text/plain": [
       "<Figure size 1440x288 with 0 Axes>"
      ]
     },
     "metadata": {},
     "output_type": "display_data"
    }
   ],
   "source": [
    "mydata = df[[\"firmNega\"]]\n",
    "mydata.index = df[\"date\"]\n",
    "\n",
    "plot_acf(mydata)\n",
    "plot_pacf(mydata)\n",
    "plt.figure(figsize=(20,4))\n",
    "plt.show"
   ]
  },
  {
   "cell_type": "markdown",
   "id": "d5bd5a31",
   "metadata": {},
   "source": [
    "# 공적분 검증"
   ]
  },
  {
   "cell_type": "code",
   "execution_count": 18,
   "id": "23831741",
   "metadata": {},
   "outputs": [],
   "source": [
    "#gameShares AND other independent"
   ]
  },
  {
   "cell_type": "code",
   "execution_count": 13,
   "id": "16cb80b3",
   "metadata": {},
   "outputs": [
    {
     "name": "stdout",
     "output_type": "stream",
     "text": [
      "Correlation:  -0.021281987379811816\n",
      "Cointegration test p-value:  8.099419606133166e-26\n"
     ]
    }
   ],
   "source": [
    "from statsmodels.tsa.stattools import coint\n",
    "X = df[['date','gameShares']]\n",
    "Y = df[['date','search']]\n",
    "\n",
    "score, p_value, _ = coint(X.gameShares,Y.search)\n",
    "print('Correlation: ' , X.gameShares.corr(Y.search))\n",
    "print('Cointegration test p-value: ' ,p_value)"
   ]
  },
  {
   "cell_type": "code",
   "execution_count": 15,
   "id": "9a0b272f",
   "metadata": {},
   "outputs": [
    {
     "name": "stdout",
     "output_type": "stream",
     "text": [
      "Correlation:  0.33177519970565666\n",
      "Cointegration test p-value:  6.2214578480480105e-25\n"
     ]
    }
   ],
   "source": [
    "X = df[['date','gameShares']]\n",
    "Y = df[['date','total']]\n",
    "\n",
    "score, p_value, _ = coint(X.gameShares,Y.total)\n",
    "print('Correlation: ' , X.gameShares.corr(Y.total))\n",
    "print('Cointegration test p-value: ' ,p_value)"
   ]
  },
  {
   "cell_type": "code",
   "execution_count": 16,
   "id": "c9db4b66",
   "metadata": {},
   "outputs": [
    {
     "name": "stdout",
     "output_type": "stream",
     "text": [
      "Correlation:  0.36562745189487617\n",
      "Cointegration test p-value:  1.2356645589725982e-24\n"
     ]
    }
   ],
   "source": [
    "X = df[['date','gameShares']]\n",
    "Y = df[['date','positive']]\n",
    "\n",
    "score, p_value, _ = coint(X.gameShares,Y.positive)\n",
    "print('Correlation: ' , X.gameShares.corr(Y.positive))\n",
    "print('Cointegration test p-value: ' ,p_value)"
   ]
  },
  {
   "cell_type": "code",
   "execution_count": 17,
   "id": "ec74d04e",
   "metadata": {},
   "outputs": [
    {
     "name": "stdout",
     "output_type": "stream",
     "text": [
      "Correlation:  0.3921482909302694\n",
      "Cointegration test p-value:  1.945782311222358e-24\n"
     ]
    }
   ],
   "source": [
    "X = df[['date','gameShares']]\n",
    "Y = df[['date','negative']]\n",
    "\n",
    "score, p_value, _ = coint(X.gameShares,Y.negative)\n",
    "print('Correlation: ' , X.gameShares.corr(Y.negative))\n",
    "print('Cointegration test p-value: ' ,p_value)"
   ]
  },
  {
   "cell_type": "code",
   "execution_count": 19,
   "id": "201aa9c7",
   "metadata": {},
   "outputs": [],
   "source": [
    "#timeCountTotal AND other independent"
   ]
  },
  {
   "cell_type": "code",
   "execution_count": 21,
   "id": "e17e1fef",
   "metadata": {},
   "outputs": [
    {
     "name": "stdout",
     "output_type": "stream",
     "text": [
      "Correlation:  -0.10139600514536729\n",
      "Cointegration test p-value:  6.163981917862e-07\n"
     ]
    }
   ],
   "source": [
    "X = df[['date','timeCountTotal']]\n",
    "Y = df[['date','search']]\n",
    "\n",
    "score, p_value, _ = coint(X.timeCountTotal,Y.search)\n",
    "print('Correlation: ' , X.timeCountTotal.corr(Y.search))\n",
    "print('Cointegration test p-value: ' ,p_value)"
   ]
  },
  {
   "cell_type": "code",
   "execution_count": 22,
   "id": "71f51db1",
   "metadata": {},
   "outputs": [
    {
     "name": "stdout",
     "output_type": "stream",
     "text": [
      "Correlation:  0.614230363216674\n",
      "Cointegration test p-value:  9.89291464423408e-11\n"
     ]
    }
   ],
   "source": [
    "X = df[['date','timeCountTotal']]\n",
    "Y = df[['date','total']]\n",
    "\n",
    "score, p_value, _ = coint(X.timeCountTotal,Y.total)\n",
    "print('Correlation: ' , X.timeCountTotal.corr(Y.total))\n",
    "print('Cointegration test p-value: ' ,p_value)"
   ]
  },
  {
   "cell_type": "code",
   "execution_count": 23,
   "id": "20ebba07",
   "metadata": {},
   "outputs": [
    {
     "name": "stdout",
     "output_type": "stream",
     "text": [
      "Correlation:  0.5885816437110853\n",
      "Cointegration test p-value:  2.6734794916491767e-10\n"
     ]
    }
   ],
   "source": [
    "X = df[['date','timeCountTotal']]\n",
    "Y = df[['date','positive']]\n",
    "\n",
    "score, p_value, _ = coint(X.timeCountTotal,Y.positive)\n",
    "print('Correlation: ' , X.timeCountTotal.corr(Y.positive))\n",
    "print('Cointegration test p-value: ' ,p_value)"
   ]
  },
  {
   "cell_type": "code",
   "execution_count": 24,
   "id": "25efc408",
   "metadata": {},
   "outputs": [
    {
     "name": "stdout",
     "output_type": "stream",
     "text": [
      "Correlation:  0.5902644472437891\n",
      "Cointegration test p-value:  4.075027063951721e-10\n"
     ]
    }
   ],
   "source": [
    "X = df[['date','timeCountTotal']]\n",
    "Y = df[['date','negative']]\n",
    "\n",
    "score, p_value, _ = coint(X.timeCountTotal,Y.negative)\n",
    "print('Correlation: ' , X.timeCountTotal.corr(Y.negative))\n",
    "print('Cointegration test p-value: ' ,p_value)"
   ]
  },
  {
   "cell_type": "code",
   "execution_count": null,
   "id": "1076926b",
   "metadata": {},
   "outputs": [],
   "source": []
  },
  {
   "cell_type": "markdown",
   "id": "df16e719",
   "metadata": {},
   "source": [
    "# grangercausalitytests"
   ]
  },
  {
   "cell_type": "code",
   "execution_count": 23,
   "id": "7c01e47e",
   "metadata": {},
   "outputs": [
    {
     "name": "stdout",
     "output_type": "stream",
     "text": [
      "\n",
      "Granger Causality\n",
      "number of lags (no zero) 1\n",
      "ssr based F test:         F=0.5477  , p=0.4592  , df_denom=53432, df_num=1\n",
      "ssr based chi2 test:   chi2=0.5478  , p=0.4592  , df=1\n",
      "likelihood ratio test: chi2=0.5478  , p=0.4592  , df=1\n",
      "parameter F test:         F=0.5477  , p=0.4592  , df_denom=53432, df_num=1\n",
      "\n",
      "Granger Causality\n",
      "number of lags (no zero) 2\n",
      "ssr based F test:         F=6.1028  , p=0.0022  , df_denom=53429, df_num=2\n",
      "ssr based chi2 test:   chi2=12.2068 , p=0.0022  , df=2\n",
      "likelihood ratio test: chi2=12.2054 , p=0.0022  , df=2\n",
      "parameter F test:         F=6.1028  , p=0.0022  , df_denom=53429, df_num=2\n",
      "\n",
      "Granger Causality\n",
      "number of lags (no zero) 3\n",
      "ssr based F test:         F=4.3771  , p=0.0044  , df_denom=53426, df_num=3\n",
      "ssr based chi2 test:   chi2=13.1330 , p=0.0044  , df=3\n",
      "likelihood ratio test: chi2=13.1314 , p=0.0044  , df=3\n",
      "parameter F test:         F=4.3771  , p=0.0044  , df_denom=53426, df_num=3\n",
      "\n",
      "Granger Causality\n",
      "number of lags (no zero) 4\n",
      "ssr based F test:         F=4.2007  , p=0.0021  , df_denom=53423, df_num=4\n",
      "ssr based chi2 test:   chi2=16.8057 , p=0.0021  , df=4\n",
      "likelihood ratio test: chi2=16.8030 , p=0.0021  , df=4\n",
      "parameter F test:         F=4.2007  , p=0.0021  , df_denom=53423, df_num=4\n"
     ]
    },
    {
     "data": {
      "text/plain": [
       "{1: ({'ssr_ftest': (0.5477381810150469, 0.4592465994053394, 53432.0, 1),\n",
       "   'ssr_chi2test': (0.547768934393978, 0.45923074194009983, 1),\n",
       "   'lrtest': (0.5477661268087104, 0.4592318927369645, 1),\n",
       "   'params_ftest': (0.547738180993477, 0.45924659941263435, 53432.0, 1.0)},\n",
       "  [<statsmodels.regression.linear_model.RegressionResultsWrapper at 0x1f097a51c70>,\n",
       "   <statsmodels.regression.linear_model.RegressionResultsWrapper at 0x1f09e3d2e80>,\n",
       "   array([[0., 1., 0.]])]),\n",
       " 2: ({'ssr_ftest': (6.102811190386937, 0.002238130821479895, 53429.0, 2),\n",
       "   'ssr_chi2test': (12.206764609000192, 0.002235294472638329, 2),\n",
       "   'lrtest': (12.205370530136861, 0.0022368531041778573, 2),\n",
       "   'params_ftest': (6.102811190369431, 0.0022381308215199524, 53429.0, 2.0)},\n",
       "  [<statsmodels.regression.linear_model.RegressionResultsWrapper at 0x1f09fd66280>,\n",
       "   <statsmodels.regression.linear_model.RegressionResultsWrapper at 0x1f09fd66550>,\n",
       "   array([[0., 0., 1., 0., 0.],\n",
       "          [0., 0., 0., 1., 0.]])]),\n",
       " 3: ({'ssr_ftest': (4.377103370833947, 0.0043641106138052, 53426.0, 3),\n",
       "   'ssr_chi2test': (13.133030607593883, 0.004357575296912675, 3),\n",
       "   'lrtest': (13.131416920921765, 0.0043608583073764156, 3),\n",
       "   'params_ftest': (4.377103370825167, 0.004364110613871194, 53426.0, 3.0)},\n",
       "  [<statsmodels.regression.linear_model.RegressionResultsWrapper at 0x1f09fd66a90>,\n",
       "   <statsmodels.regression.linear_model.RegressionResultsWrapper at 0x1f09fd665e0>,\n",
       "   array([[0., 0., 0., 1., 0., 0., 0.],\n",
       "          [0., 0., 0., 0., 1., 0., 0.],\n",
       "          [0., 0., 0., 0., 0., 1., 0.]])]),\n",
       " 4: ({'ssr_ftest': (4.200711848694264, 0.0021132618326490465, 53423.0, 4),\n",
       "   'ssr_chi2test': (16.80567811612466, 0.002108396892324382, 4),\n",
       "   'lrtest': (16.803035770659335, 0.0021108876517465696, 4),\n",
       "   'params_ftest': (4.200711848696293, 0.0021132618326373904, 53423.0, 4.0)},\n",
       "  [<statsmodels.regression.linear_model.RegressionResultsWrapper at 0x1f09fd66b80>,\n",
       "   <statsmodels.regression.linear_model.RegressionResultsWrapper at 0x1f09fd66940>,\n",
       "   array([[0., 0., 0., 0., 1., 0., 0., 0., 0.],\n",
       "          [0., 0., 0., 0., 0., 1., 0., 0., 0.],\n",
       "          [0., 0., 0., 0., 0., 0., 1., 0., 0.],\n",
       "          [0., 0., 0., 0., 0., 0., 0., 1., 0.]])])}"
      ]
     },
     "execution_count": 23,
     "metadata": {},
     "output_type": "execute_result"
    }
   ],
   "source": [
    "mydata = df[[\"search\",\"gameShares\"]]\n",
    "grangercausalitytests(mydata,maxlag=4,verbose=True)"
   ]
  },
  {
   "cell_type": "code",
   "execution_count": 24,
   "id": "fa01544d",
   "metadata": {},
   "outputs": [
    {
     "name": "stdout",
     "output_type": "stream",
     "text": [
      "\n",
      "Granger Causality\n",
      "number of lags (no zero) 1\n",
      "ssr based F test:         F=98.8036 , p=0.0000  , df_denom=53432, df_num=1\n",
      "ssr based chi2 test:   chi2=98.8091 , p=0.0000  , df=1\n",
      "likelihood ratio test: chi2=98.7179 , p=0.0000  , df=1\n",
      "parameter F test:         F=98.8036 , p=0.0000  , df_denom=53432, df_num=1\n",
      "\n",
      "Granger Causality\n",
      "number of lags (no zero) 2\n",
      "ssr based F test:         F=30.5507 , p=0.0000  , df_denom=53429, df_num=2\n",
      "ssr based chi2 test:   chi2=61.1071 , p=0.0000  , df=2\n",
      "likelihood ratio test: chi2=61.0722 , p=0.0000  , df=2\n",
      "parameter F test:         F=30.5507 , p=0.0000  , df_denom=53429, df_num=2\n",
      "\n",
      "Granger Causality\n",
      "number of lags (no zero) 3\n",
      "ssr based F test:         F=21.4482 , p=0.0000  , df_denom=53426, df_num=3\n",
      "ssr based chi2 test:   chi2=64.3532 , p=0.0000  , df=3\n",
      "likelihood ratio test: chi2=64.3144 , p=0.0000  , df=3\n",
      "parameter F test:         F=21.4482 , p=0.0000  , df_denom=53426, df_num=3\n",
      "\n",
      "Granger Causality\n",
      "number of lags (no zero) 4\n",
      "ssr based F test:         F=22.9722 , p=0.0000  , df_denom=53423, df_num=4\n",
      "ssr based chi2 test:   chi2=91.9042 , p=0.0000  , df=4\n",
      "likelihood ratio test: chi2=91.8252 , p=0.0000  , df=4\n",
      "parameter F test:         F=22.9722 , p=0.0000  , df_denom=53423, df_num=4\n"
     ]
    },
    {
     "data": {
      "text/plain": [
       "{1: ({'ssr_ftest': (98.80358962024327, 2.921116213097e-23, 53432.0, 1),\n",
       "   'ssr_chi2test': (98.80913705939697, 2.780486243628971e-23, 1),\n",
       "   'lrtest': (98.71789324500423, 2.9115941384036426e-23, 1),\n",
       "   'params_ftest': (98.80358962030827, 2.9211162130005477e-23, 53432.0, 1.0)},\n",
       "  [<statsmodels.regression.linear_model.RegressionResultsWrapper at 0x1f09fd4b100>,\n",
       "   <statsmodels.regression.linear_model.RegressionResultsWrapper at 0x1f09fd5b820>,\n",
       "   array([[0., 1., 0.]])]),\n",
       " 2: ({'ssr_ftest': (30.550696448883308, 5.4901217455984487e-14, 53429.0, 2),\n",
       "   'ssr_chi2test': (61.10711089669021, 5.3797174465803923e-14, 2),\n",
       "   'lrtest': (61.072196473454824, 5.474456849383046e-14, 2),\n",
       "   'params_ftest': (30.55069644886649, 5.4901217456955246e-14, 53429.0, 2.0)},\n",
       "  [<statsmodels.regression.linear_model.RegressionResultsWrapper at 0x1f09fd5b1c0>,\n",
       "   <statsmodels.regression.linear_model.RegressionResultsWrapper at 0x1f09fd751f0>,\n",
       "   array([[0., 0., 1., 0., 0.],\n",
       "          [0., 0., 0., 1., 0.]])]),\n",
       " 3: ({'ssr_ftest': (21.44824552887012, 7.057728747737426e-14, 53426.0, 3),\n",
       "   'ssr_chi2test': (64.35316718512243, 6.897794283393554e-14, 3),\n",
       "   'lrtest': (64.31444572092732, 7.030588591428431e-14, 3),\n",
       "   'params_ftest': (21.4482455288752, 7.057728747677624e-14, 53426.0, 3.0)},\n",
       "  [<statsmodels.regression.linear_model.RegressionResultsWrapper at 0x1f09fd754c0>,\n",
       "   <statsmodels.regression.linear_model.RegressionResultsWrapper at 0x1f09fd75400>,\n",
       "   array([[0., 0., 0., 1., 0., 0., 0.],\n",
       "          [0., 0., 0., 0., 1., 0., 0.],\n",
       "          [0., 0., 0., 0., 0., 1., 0.]])]),\n",
       " 4: ({'ssr_ftest': (22.97216979098694, 5.427753234881149e-19, 53423.0, 4),\n",
       "   'ssr_chi2test': (91.90415935248969, 5.187047178571431e-19, 4),\n",
       "   'lrtest': (91.82521132795955, 5.391359177954878e-19, 4),\n",
       "   'params_ftest': (22.97216979098176, 5.427753234927622e-19, 53423.0, 4.0)},\n",
       "  [<statsmodels.regression.linear_model.RegressionResultsWrapper at 0x1f09fd75790>,\n",
       "   <statsmodels.regression.linear_model.RegressionResultsWrapper at 0x1f09fd75640>,\n",
       "   array([[0., 0., 0., 0., 1., 0., 0., 0., 0.],\n",
       "          [0., 0., 0., 0., 0., 1., 0., 0., 0.],\n",
       "          [0., 0., 0., 0., 0., 0., 1., 0., 0.],\n",
       "          [0., 0., 0., 0., 0., 0., 0., 1., 0.]])])}"
      ]
     },
     "execution_count": 24,
     "metadata": {},
     "output_type": "execute_result"
    }
   ],
   "source": [
    "mydata = df[[\"total\",\"gameShares\"]]\n",
    "grangercausalitytests(mydata,maxlag=4,verbose=True)"
   ]
  },
  {
   "cell_type": "code",
   "execution_count": 25,
   "id": "f6b43fff",
   "metadata": {},
   "outputs": [
    {
     "name": "stdout",
     "output_type": "stream",
     "text": [
      "\n",
      "Granger Causality\n",
      "number of lags (no zero) 1\n",
      "ssr based F test:         F=271.4009, p=0.0000  , df_denom=53432, df_num=1\n",
      "ssr based chi2 test:   chi2=271.4161, p=0.0000  , df=1\n",
      "likelihood ratio test: chi2=270.7291, p=0.0000  , df=1\n",
      "parameter F test:         F=271.4009, p=0.0000  , df_denom=53432, df_num=1\n",
      "\n",
      "Granger Causality\n",
      "number of lags (no zero) 2\n",
      "ssr based F test:         F=67.5309 , p=0.0000  , df_denom=53429, df_num=2\n",
      "ssr based chi2 test:   chi2=135.0744, p=0.0000  , df=2\n",
      "likelihood ratio test: chi2=134.9040, p=0.0000  , df=2\n",
      "parameter F test:         F=67.5309 , p=0.0000  , df_denom=53429, df_num=2\n",
      "\n",
      "Granger Causality\n",
      "number of lags (no zero) 3\n",
      "ssr based F test:         F=33.6200 , p=0.0000  , df_denom=53426, df_num=3\n",
      "ssr based chi2 test:   chi2=100.8732, p=0.0000  , df=3\n",
      "likelihood ratio test: chi2=100.7781, p=0.0000  , df=3\n",
      "parameter F test:         F=33.6200 , p=0.0000  , df_denom=53426, df_num=3\n",
      "\n",
      "Granger Causality\n",
      "number of lags (no zero) 4\n",
      "ssr based F test:         F=26.1256 , p=0.0000  , df_denom=53423, df_num=4\n",
      "ssr based chi2 test:   chi2=104.5199, p=0.0000  , df=4\n",
      "likelihood ratio test: chi2=104.4178, p=0.0000  , df=4\n",
      "parameter F test:         F=26.1256 , p=0.0000  , df_denom=53423, df_num=4\n"
     ]
    },
    {
     "data": {
      "text/plain": [
       "{1: ({'ssr_ftest': (271.40089503322815, 7.94072465269597e-61, 53432.0, 1),\n",
       "   'ssr_chi2test': (271.41613314307057, 5.575350078452698e-61, 1),\n",
       "   'lrtest': (270.72914699069224, 7.870378597530995e-61, 1),\n",
       "   'params_ftest': (271.4008950332677, 7.940724652552432e-61, 53432.0, 1.0)},\n",
       "  [<statsmodels.regression.linear_model.RegressionResultsWrapper at 0x1f09fd5b0d0>,\n",
       "   <statsmodels.regression.linear_model.RegressionResultsWrapper at 0x1f09fd5b670>,\n",
       "   array([[0., 1., 0.]])]),\n",
       " 2: ({'ssr_ftest': (67.5308773337949, 5.1135129958740995e-30, 53429.0, 2),\n",
       "   'ssr_chi2test': (135.0743940352242, 4.6662500978167934e-30, 2),\n",
       "   'lrtest': (134.90395571352565, 5.0813396276612575e-30, 2),\n",
       "   'params_ftest': (67.53087733389015, 5.113512995402778e-30, 53429.0, 2.0)},\n",
       "  [<statsmodels.regression.linear_model.RegressionResultsWrapper at 0x1f09fd75bb0>,\n",
       "   <statsmodels.regression.linear_model.RegressionResultsWrapper at 0x1f09fd75b80>,\n",
       "   array([[0., 0., 1., 0., 0.],\n",
       "          [0., 0., 0., 1., 0.]])]),\n",
       " 3: ({'ssr_ftest': (33.619984475655066, 1.0637171090266678e-21, 53426.0, 3),\n",
       "   'ssr_chi2test': (100.87316833494988, 1.0086506868127422e-21, 3),\n",
       "   'lrtest': (100.77807159868826, 1.0572797642626396e-21, 3),\n",
       "   'params_ftest': (33.619984475639626, 1.0637171090535748e-21, 53426.0, 3.0)},\n",
       "  [<statsmodels.regression.linear_model.RegressionResultsWrapper at 0x1f09fd66160>,\n",
       "   <statsmodels.regression.linear_model.RegressionResultsWrapper at 0x1f09fd66fa0>,\n",
       "   array([[0., 0., 0., 1., 0., 0., 0.],\n",
       "          [0., 0., 0., 0., 1., 0., 0.],\n",
       "          [0., 0., 0., 0., 0., 1., 0.]])]),\n",
       " 4: ({'ssr_ftest': (26.12557364979568, 1.1357349448529476e-21, 53423.0, 4),\n",
       "   'ssr_chi2test': (104.51989976271516, 1.0719953349187858e-21, 4),\n",
       "   'lrtest': (104.41780566237867, 1.127057045028381e-21, 4),\n",
       "   'params_ftest': (26.125573649801012, 1.1357349448392047e-21, 53423.0, 4.0)},\n",
       "  [<statsmodels.regression.linear_model.RegressionResultsWrapper at 0x1f09fd66040>,\n",
       "   <statsmodels.regression.linear_model.RegressionResultsWrapper at 0x1f09fd802b0>,\n",
       "   array([[0., 0., 0., 0., 1., 0., 0., 0., 0.],\n",
       "          [0., 0., 0., 0., 0., 1., 0., 0., 0.],\n",
       "          [0., 0., 0., 0., 0., 0., 1., 0., 0.],\n",
       "          [0., 0., 0., 0., 0., 0., 0., 1., 0.]])])}"
      ]
     },
     "execution_count": 25,
     "metadata": {},
     "output_type": "execute_result"
    }
   ],
   "source": [
    "mydata = df[[\"positive\",\"gameShares\"]]\n",
    "grangercausalitytests(mydata,maxlag=4,verbose=True)"
   ]
  },
  {
   "cell_type": "code",
   "execution_count": 26,
   "id": "d29193f1",
   "metadata": {},
   "outputs": [
    {
     "name": "stdout",
     "output_type": "stream",
     "text": [
      "\n",
      "Granger Causality\n",
      "number of lags (no zero) 1\n",
      "ssr based F test:         F=193.6527, p=0.0000  , df_denom=53432, df_num=1\n",
      "ssr based chi2 test:   chi2=193.6636, p=0.0000  , df=1\n",
      "likelihood ratio test: chi2=193.3135, p=0.0000  , df=1\n",
      "parameter F test:         F=193.6527, p=0.0000  , df_denom=53432, df_num=1\n",
      "\n",
      "Granger Causality\n",
      "number of lags (no zero) 2\n",
      "ssr based F test:         F=54.5886 , p=0.0000  , df_denom=53429, df_num=2\n",
      "ssr based chi2 test:   chi2=109.1874, p=0.0000  , df=2\n",
      "likelihood ratio test: chi2=109.0760, p=0.0000  , df=2\n",
      "parameter F test:         F=54.5886 , p=0.0000  , df_denom=53429, df_num=2\n",
      "\n",
      "Granger Causality\n",
      "number of lags (no zero) 3\n",
      "ssr based F test:         F=38.9841 , p=0.0000  , df_denom=53426, df_num=3\n",
      "ssr based chi2 test:   chi2=116.9677, p=0.0000  , df=3\n",
      "likelihood ratio test: chi2=116.8399, p=0.0000  , df=3\n",
      "parameter F test:         F=38.9841 , p=0.0000  , df_denom=53426, df_num=3\n",
      "\n",
      "Granger Causality\n",
      "number of lags (no zero) 4\n",
      "ssr based F test:         F=45.7115 , p=0.0000  , df_denom=53423, df_num=4\n",
      "ssr based chi2 test:   chi2=182.8769, p=0.0000  , df=4\n",
      "likelihood ratio test: chi2=182.5647, p=0.0000  , df=4\n",
      "parameter F test:         F=45.7115 , p=0.0000  , df_denom=53423, df_num=4\n"
     ]
    },
    {
     "data": {
      "text/plain": [
       "{1: ({'ssr_ftest': (193.65268367172703, 6.05160490199454e-44, 53432.0, 1),\n",
       "   'ssr_chi2test': (193.6635565204135, 5.043068363164228e-44, 1),\n",
       "   'lrtest': (193.3134564157226, 6.013219755609502e-44, 1),\n",
       "   'params_ftest': (193.6526836718364, 6.05160490165132e-44, 53432.0, 1.0)},\n",
       "  [<statsmodels.regression.linear_model.RegressionResultsWrapper at 0x1f09fd4b730>,\n",
       "   <statsmodels.regression.linear_model.RegressionResultsWrapper at 0x1f09fd75dc0>,\n",
       "   array([[0., 1., 0.]])]),\n",
       " 2: ({'ssr_ftest': (54.588571251403124, 2.0733557441974934e-24, 53429.0, 2),\n",
       "   'ssr_chi2test': (109.18735953311777, 1.9510398079413863e-24, 2),\n",
       "   'lrtest': (109.07595421523729, 2.0628017349058547e-24, 2),\n",
       "   'params_ftest': (54.58857125136245, 2.073355744283971e-24, 53429.0, 2.0)},\n",
       "  [<statsmodels.regression.linear_model.RegressionResultsWrapper at 0x1f09fd806d0>,\n",
       "   <statsmodels.regression.linear_model.RegressionResultsWrapper at 0x1f09fd80970>,\n",
       "   array([[0., 0., 1., 0., 0.],\n",
       "          [0., 0., 0., 1., 0.]])]),\n",
       " 3: ({'ssr_ftest': (38.984134012599185, 3.723979396614164e-25, 53426.0, 3),\n",
       "   'ssr_chi2test': (116.96772541619504, 3.4707288811074916e-25, 3),\n",
       "   'lrtest': (116.83988760791544, 3.6978289817474084e-25, 3),\n",
       "   'params_ftest': (38.98413401263988, 3.7239793963842753e-25, 53426.0, 3.0)},\n",
       "  [<statsmodels.regression.linear_model.RegressionResultsWrapper at 0x1f09fd80100>,\n",
       "   <statsmodels.regression.linear_model.RegressionResultsWrapper at 0x1f09fd80b50>,\n",
       "   array([[0., 0., 0., 1., 0., 0., 0.],\n",
       "          [0., 0., 0., 0., 1., 0., 0.],\n",
       "          [0., 0., 0., 0., 0., 1., 0.]])]),\n",
       " 4: ({'ssr_ftest': (45.71152857389101, 2.1260585423879464e-38, 53423.0, 4),\n",
       "   'ssr_chi2test': (182.8769177889781, 1.7973578998055027e-38, 4),\n",
       "   'lrtest': (182.56467183184577, 2.0975088196424136e-38, 4),\n",
       "   'params_ftest': (45.711528573883925, 2.1260585424198212e-38, 53423.0, 4.0)},\n",
       "  [<statsmodels.regression.linear_model.RegressionResultsWrapper at 0x1f09fd80d30>,\n",
       "   <statsmodels.regression.linear_model.RegressionResultsWrapper at 0x1f09fd80d00>,\n",
       "   array([[0., 0., 0., 0., 1., 0., 0., 0., 0.],\n",
       "          [0., 0., 0., 0., 0., 1., 0., 0., 0.],\n",
       "          [0., 0., 0., 0., 0., 0., 1., 0., 0.],\n",
       "          [0., 0., 0., 0., 0., 0., 0., 1., 0.]])])}"
      ]
     },
     "execution_count": 26,
     "metadata": {},
     "output_type": "execute_result"
    }
   ],
   "source": [
    "mydata = df[[\"negative\",\"gameShares\"]]\n",
    "grangercausalitytests(mydata,maxlag=4,verbose=True)"
   ]
  },
  {
   "cell_type": "code",
   "execution_count": 27,
   "id": "a6e78e43",
   "metadata": {},
   "outputs": [
    {
     "name": "stdout",
     "output_type": "stream",
     "text": [
      "\n",
      "Granger Causality\n",
      "number of lags (no zero) 1\n",
      "ssr based F test:         F=5.1500  , p=0.0233  , df_denom=53432, df_num=1\n",
      "ssr based chi2 test:   chi2=5.1503  , p=0.0232  , df=1\n",
      "likelihood ratio test: chi2=5.1501  , p=0.0232  , df=1\n",
      "parameter F test:         F=5.1500  , p=0.0233  , df_denom=53432, df_num=1\n",
      "\n",
      "Granger Causality\n",
      "number of lags (no zero) 2\n",
      "ssr based F test:         F=0.7948  , p=0.4517  , df_denom=53429, df_num=2\n",
      "ssr based chi2 test:   chi2=1.5898  , p=0.4516  , df=2\n",
      "likelihood ratio test: chi2=1.5898  , p=0.4516  , df=2\n",
      "parameter F test:         F=0.7948  , p=0.4517  , df_denom=53429, df_num=2\n",
      "\n",
      "Granger Causality\n",
      "number of lags (no zero) 3\n",
      "ssr based F test:         F=1.0558  , p=0.3665  , df_denom=53426, df_num=3\n",
      "ssr based chi2 test:   chi2=3.1678  , p=0.3665  , df=3\n",
      "likelihood ratio test: chi2=3.1677  , p=0.3665  , df=3\n",
      "parameter F test:         F=1.0558  , p=0.3665  , df_denom=53426, df_num=3\n",
      "\n",
      "Granger Causality\n",
      "number of lags (no zero) 4\n",
      "ssr based F test:         F=43.7276 , p=0.0000  , df_denom=53423, df_num=4\n",
      "ssr based chi2 test:   chi2=174.9400, p=0.0000  , df=4\n",
      "likelihood ratio test: chi2=174.6542, p=0.0000  , df=4\n",
      "parameter F test:         F=43.7276 , p=0.0000  , df_denom=53423, df_num=4\n"
     ]
    },
    {
     "data": {
      "text/plain": [
       "{1: ({'ssr_ftest': (5.15001277223885, 0.023250169976863376, 53432.0, 1),\n",
       "   'ssr_chi2test': (5.150301925523712, 0.0232423314320038, 1),\n",
       "   'lrtest': (5.150053736986592, 0.023245653693144585, 1),\n",
       "   'params_ftest': (5.150012772210155, 0.023250169977164704, 53432.0, 1.0)},\n",
       "  [<statsmodels.regression.linear_model.RegressionResultsWrapper at 0x1f09fd800a0>,\n",
       "   <statsmodels.regression.linear_model.RegressionResultsWrapper at 0x1f09fd662b0>,\n",
       "   array([[0., 1., 0.]])]),\n",
       " 2: ({'ssr_ftest': (0.7948396739104949, 0.45165898144744643, 53429.0, 2),\n",
       "   'ssr_chi2test': (1.58982811341157, 0.4516200469693209, 2),\n",
       "   'lrtest': (1.5898044626810588, 0.4516253875729104, 2),\n",
       "   'params_ftest': (0.7948396739025974, 0.45165898145280503, 53429.0, 2.0)},\n",
       "  [<statsmodels.regression.linear_model.RegressionResultsWrapper at 0x1f09fd759a0>,\n",
       "   <statsmodels.regression.linear_model.RegressionResultsWrapper at 0x1f09fd8f250>,\n",
       "   array([[0., 0., 1., 0., 0.],\n",
       "          [0., 0., 0., 1., 0.]])]),\n",
       " 3: ({'ssr_ftest': (1.0557994019711612, 0.3665381438663181, 53426.0, 3),\n",
       "   'ssr_chi2test': (3.167813205865593, 0.36646832039525895, 3),\n",
       "   'lrtest': (3.1677193065406755, 0.36648200012121945, 3),\n",
       "   'params_ftest': (1.0557994019663735, 0.3665381438698991, 53426.0, 3.0)},\n",
       "  [<statsmodels.regression.linear_model.RegressionResultsWrapper at 0x1f09fd8f5b0>,\n",
       "   <statsmodels.regression.linear_model.RegressionResultsWrapper at 0x1f09fd8f4c0>,\n",
       "   array([[0., 0., 0., 1., 0., 0., 0.],\n",
       "          [0., 0., 0., 0., 1., 0., 0.],\n",
       "          [0., 0., 0., 0., 0., 1., 0.]])]),\n",
       " 4: ({'ssr_ftest': (43.727627063464695, 1.0617620199654946e-36, 53423.0, 4),\n",
       "   'ssr_chi2test': (174.93997486139273, 9.1004547017924e-37, 4),\n",
       "   'lrtest': (174.65421577781672, 1.0481246471876855e-36, 4),\n",
       "   'params_ftest': (43.72762706347026, 1.0617620199528504e-36, 53423.0, 4.0)},\n",
       "  [<statsmodels.regression.linear_model.RegressionResultsWrapper at 0x1f09fd8f850>,\n",
       "   <statsmodels.regression.linear_model.RegressionResultsWrapper at 0x1f09fd8f790>,\n",
       "   array([[0., 0., 0., 0., 1., 0., 0., 0., 0.],\n",
       "          [0., 0., 0., 0., 0., 1., 0., 0., 0.],\n",
       "          [0., 0., 0., 0., 0., 0., 1., 0., 0.],\n",
       "          [0., 0., 0., 0., 0., 0., 0., 1., 0.]])])}"
      ]
     },
     "execution_count": 27,
     "metadata": {},
     "output_type": "execute_result"
    }
   ],
   "source": [
    "mydata = df[[\"search\",\"timeCountTotal\"]]\n",
    "grangercausalitytests(mydata,maxlag=4,verbose=True)"
   ]
  },
  {
   "cell_type": "code",
   "execution_count": 28,
   "id": "ffdee031",
   "metadata": {},
   "outputs": [
    {
     "name": "stdout",
     "output_type": "stream",
     "text": [
      "\n",
      "Granger Causality\n",
      "number of lags (no zero) 1\n",
      "ssr based F test:         F=622.1581, p=0.0000  , df_denom=53432, df_num=1\n",
      "ssr based chi2 test:   chi2=622.1930, p=0.0000  , df=1\n",
      "likelihood ratio test: chi2=618.5985, p=0.0000  , df=1\n",
      "parameter F test:         F=622.1581, p=0.0000  , df_denom=53432, df_num=1\n",
      "\n",
      "Granger Causality\n",
      "number of lags (no zero) 2\n",
      "ssr based F test:         F=161.6266, p=0.0000  , df_denom=53429, df_num=2\n",
      "ssr based chi2 test:   chi2=323.2835, p=0.0000  , df=2\n",
      "likelihood ratio test: chi2=322.3095, p=0.0000  , df=2\n",
      "parameter F test:         F=161.6266, p=0.0000  , df_denom=53429, df_num=2\n",
      "\n",
      "Granger Causality\n",
      "number of lags (no zero) 3\n",
      "ssr based F test:         F=80.9305 , p=0.0000  , df_denom=53426, df_num=3\n",
      "ssr based chi2 test:   chi2=242.8233, p=0.0000  , df=3\n",
      "likelihood ratio test: chi2=242.2732, p=0.0000  , df=3\n",
      "parameter F test:         F=80.9305 , p=0.0000  , df_denom=53426, df_num=3\n",
      "\n",
      "Granger Causality\n",
      "number of lags (no zero) 4\n",
      "ssr based F test:         F=79.3540 , p=0.0000  , df_denom=53423, df_num=4\n",
      "ssr based chi2 test:   chi2=317.4696, p=0.0000  , df=4\n",
      "likelihood ratio test: chi2=316.5302, p=0.0000  , df=4\n",
      "parameter F test:         F=79.3540 , p=0.0000  , df_denom=53423, df_num=4\n"
     ]
    },
    {
     "data": {
      "text/plain": [
       "{1: ({'ssr_ftest': (622.1580892165614, 1.5395273215552715e-136, 53432.0, 1),\n",
       "   'ssr_chi2test': (622.1930209853076, 2.493356762479186e-137, 1),\n",
       "   'lrtest': (618.5985130720364, 1.5086066168214511e-136, 1),\n",
       "   'params_ftest': (622.1580892166263, 1.539527321504427e-136, 53432.0, 1.0)},\n",
       "  [<statsmodels.regression.linear_model.RegressionResultsWrapper at 0x1f09fd75550>,\n",
       "   <statsmodels.regression.linear_model.RegressionResultsWrapper at 0x1f09fd80430>,\n",
       "   array([[0., 1., 0.]])]),\n",
       " 2: ({'ssr_ftest': (161.6266248711919, 1.0421655488879526e-70, 53429.0, 2),\n",
       "   'ssr_chi2test': (323.2835004723004, 6.307827777085106e-71, 2),\n",
       "   'lrtest': (322.3094709923171, 1.026567808669998e-70, 2),\n",
       "   'params_ftest': (161.62662487117439, 1.0421655489068207e-70, 53429.0, 2.0)},\n",
       "  [<statsmodels.regression.linear_model.RegressionResultsWrapper at 0x1f09fd8fbe0>,\n",
       "   <statsmodels.regression.linear_model.RegressionResultsWrapper at 0x1f09fd8fc10>,\n",
       "   array([[0., 0., 1., 0., 0.],\n",
       "          [0., 0., 0., 1., 0.]])]),\n",
       " 3: ({'ssr_ftest': (80.93049033449682, 3.1138038712737312e-52, 53426.0, 3),\n",
       "   'ssr_chi2test': (242.8232821122582, 2.3332274435101105e-52, 3),\n",
       "   'lrtest': (242.27319961178, 3.0684391110529162e-52, 3),\n",
       "   'params_ftest': (80.93049033451312, 3.1138038711908512e-52, 53426.0, 3.0)},\n",
       "  [<statsmodels.regression.linear_model.RegressionResultsWrapper at 0x1f09fd8fe20>,\n",
       "   <statsmodels.regression.linear_model.RegressionResultsWrapper at 0x1f09fd8f1f0>,\n",
       "   array([[0., 0., 0., 1., 0., 0., 0.],\n",
       "          [0., 0., 0., 0., 1., 0., 0.],\n",
       "          [0., 0., 0., 0., 0., 1., 0.]])]),\n",
       " 4: ({'ssr_ftest': (79.35403194108552, 3.010860177143815e-67, 53423.0, 4),\n",
       "   'ssr_chi2test': (317.469601832625, 1.8439596812914164e-67, 4),\n",
       "   'lrtest': (316.53018821036676, 2.940786897733796e-67, 4),\n",
       "   'params_ftest': (79.35403194108667, 3.010860177143815e-67, 53423.0, 4.0)},\n",
       "  [<statsmodels.regression.linear_model.RegressionResultsWrapper at 0x1f09fd983d0>,\n",
       "   <statsmodels.regression.linear_model.RegressionResultsWrapper at 0x1f09fd98340>,\n",
       "   array([[0., 0., 0., 0., 1., 0., 0., 0., 0.],\n",
       "          [0., 0., 0., 0., 0., 1., 0., 0., 0.],\n",
       "          [0., 0., 0., 0., 0., 0., 1., 0., 0.],\n",
       "          [0., 0., 0., 0., 0., 0., 0., 1., 0.]])])}"
      ]
     },
     "execution_count": 28,
     "metadata": {},
     "output_type": "execute_result"
    }
   ],
   "source": [
    "mydata = df[[\"total\",\"timeCountTotal\"]]\n",
    "grangercausalitytests(mydata,maxlag=4,verbose=True)"
   ]
  },
  {
   "cell_type": "code",
   "execution_count": 29,
   "id": "f244d65a",
   "metadata": {},
   "outputs": [
    {
     "name": "stdout",
     "output_type": "stream",
     "text": [
      "\n",
      "Granger Causality\n",
      "number of lags (no zero) 1\n",
      "ssr based F test:         F=1135.4801, p=0.0000  , df_denom=53432, df_num=1\n",
      "ssr based chi2 test:   chi2=1135.5438, p=0.0000  , df=1\n",
      "likelihood ratio test: chi2=1123.6464, p=0.0000  , df=1\n",
      "parameter F test:         F=1135.4801, p=0.0000  , df_denom=53432, df_num=1\n",
      "\n",
      "Granger Causality\n",
      "number of lags (no zero) 2\n",
      "ssr based F test:         F=318.1237, p=0.0000  , df_denom=53429, df_num=2\n",
      "ssr based chi2 test:   chi2=636.3070, p=0.0000  , df=2\n",
      "likelihood ratio test: chi2=632.5481, p=0.0000  , df=2\n",
      "parameter F test:         F=318.1237, p=0.0000  , df_denom=53429, df_num=2\n",
      "\n",
      "Granger Causality\n",
      "number of lags (no zero) 3\n",
      "ssr based F test:         F=157.5713, p=0.0000  , df_denom=53426, df_num=3\n",
      "ssr based chi2 test:   chi2=472.7757, p=0.0000  , df=3\n",
      "likelihood ratio test: chi2=470.6964, p=0.0000  , df=3\n",
      "parameter F test:         F=157.5713, p=0.0000  , df_denom=53426, df_num=3\n",
      "\n",
      "Granger Causality\n",
      "number of lags (no zero) 4\n",
      "ssr based F test:         F=105.9207, p=0.0000  , df_denom=53423, df_num=4\n",
      "ssr based chi2 test:   chi2=423.7540, p=0.0000  , df=4\n",
      "likelihood ratio test: chi2=422.0825, p=0.0000  , df=4\n",
      "parameter F test:         F=105.9207, p=0.0000  , df_denom=53423, df_num=4\n"
     ]
    },
    {
     "data": {
      "text/plain": [
       "{1: ({'ssr_ftest': (1135.4800845447385, 2.4860715300470934e-246, 53432.0, 1),\n",
       "   'ssr_chi2test': (1135.5438373567918, 6.219353336071637e-249, 1),\n",
       "   'lrtest': (1123.64641103358, 2.3961920197409594e-246, 1),\n",
       "   'params_ftest': (1135.480084544832, 2.486071529934323e-246, 53432.0, 1.0)},\n",
       "  [<statsmodels.regression.linear_model.RegressionResultsWrapper at 0x1f09fd8fac0>,\n",
       "   <statsmodels.regression.linear_model.RegressionResultsWrapper at 0x1f09fd80490>,\n",
       "   array([[0., 1., 0.]])]),\n",
       " 2: ({'ssr_ftest': (318.12372365814196, 4.5370084482544503e-138, 53429.0, 2),\n",
       "   'ssr_chi2test': (636.3069887120911, 6.725011060205788e-139, 2),\n",
       "   'lrtest': (632.5481396086398, 4.404703859471467e-138, 2),\n",
       "   'params_ftest': (318.12372365820926, 4.537008447954514e-138, 53429.0, 2.0)},\n",
       "  [<statsmodels.regression.linear_model.RegressionResultsWrapper at 0x1f09fd98a90>,\n",
       "   <statsmodels.regression.linear_model.RegressionResultsWrapper at 0x1f09fd98970>,\n",
       "   array([[0., 0., 1., 0., 0.],\n",
       "          [0., 0., 0., 1., 0.]])]),\n",
       " 3: ({'ssr_ftest': (157.57126655362214, 1.0995305690041355e-101, 53426.0, 3),\n",
       "   'ssr_chi2test': (472.7757357331464, 3.786489497389759e-102, 3),\n",
       "   'lrtest': (470.69642958456825, 1.0685608160444984e-101, 3),\n",
       "   'params_ftest': (157.57126655362973,\n",
       "    1.0995305689942603e-101,\n",
       "    53426.0,\n",
       "    3.0)},\n",
       "  [<statsmodels.regression.linear_model.RegressionResultsWrapper at 0x1f09fd98af0>,\n",
       "   <statsmodels.regression.linear_model.RegressionResultsWrapper at 0x1f09fd98bb0>,\n",
       "   array([[0., 0., 0., 1., 0., 0., 0.],\n",
       "          [0., 0., 0., 0., 1., 0., 0.],\n",
       "          [0., 0., 0., 0., 0., 1., 0.]])]),\n",
       " 4: ({'ssr_ftest': (105.9206597164001, 4.853185281743801e-90, 53423.0, 4),\n",
       "   'ssr_chi2test': (423.7540153092631, 2.0469794855500294e-90, 4),\n",
       "   'lrtest': (422.0825106125412, 4.702921538020752e-90, 4),\n",
       "   'params_ftest': (105.92065971641492, 4.853185281584761e-90, 53423.0, 4.0)},\n",
       "  [<statsmodels.regression.linear_model.RegressionResultsWrapper at 0x1f09fd98e50>,\n",
       "   <statsmodels.regression.linear_model.RegressionResultsWrapper at 0x1f09fd98e80>,\n",
       "   array([[0., 0., 0., 0., 1., 0., 0., 0., 0.],\n",
       "          [0., 0., 0., 0., 0., 1., 0., 0., 0.],\n",
       "          [0., 0., 0., 0., 0., 0., 1., 0., 0.],\n",
       "          [0., 0., 0., 0., 0., 0., 0., 1., 0.]])])}"
      ]
     },
     "execution_count": 29,
     "metadata": {},
     "output_type": "execute_result"
    }
   ],
   "source": [
    "mydata = df[[\"positive\",\"timeCountTotal\"]]\n",
    "grangercausalitytests(mydata,maxlag=4,verbose=True)"
   ]
  },
  {
   "cell_type": "code",
   "execution_count": 30,
   "id": "52700da1",
   "metadata": {},
   "outputs": [
    {
     "name": "stdout",
     "output_type": "stream",
     "text": [
      "\n",
      "Granger Causality\n",
      "number of lags (no zero) 1\n",
      "ssr based F test:         F=610.3880, p=0.0000  , df_denom=53432, df_num=1\n",
      "ssr based chi2 test:   chi2=610.4223, p=0.0000  , df=1\n",
      "likelihood ratio test: chi2=606.9620, p=0.0000  , df=1\n",
      "parameter F test:         F=610.3880, p=0.0000  , df_denom=53432, df_num=1\n",
      "\n",
      "Granger Causality\n",
      "number of lags (no zero) 2\n",
      "ssr based F test:         F=120.5182, p=0.0000  , df_denom=53429, df_num=2\n",
      "ssr based chi2 test:   chi2=241.0590, p=0.0000  , df=2\n",
      "likelihood ratio test: chi2=240.5169, p=0.0000  , df=2\n",
      "parameter F test:         F=120.5182, p=0.0000  , df_denom=53429, df_num=2\n",
      "\n",
      "Granger Causality\n",
      "number of lags (no zero) 3\n",
      "ssr based F test:         F=48.0496 , p=0.0000  , df_denom=53426, df_num=3\n",
      "ssr based chi2 test:   chi2=144.1677, p=0.0000  , df=3\n",
      "likelihood ratio test: chi2=143.9736, p=0.0000  , df=3\n",
      "parameter F test:         F=48.0496 , p=0.0000  , df_denom=53426, df_num=3\n",
      "\n",
      "Granger Causality\n",
      "number of lags (no zero) 4\n",
      "ssr based F test:         F=35.6247 , p=0.0000  , df_denom=53423, df_num=4\n",
      "ssr based chi2 test:   chi2=142.5227, p=0.0000  , df=4\n",
      "likelihood ratio test: chi2=142.3329, p=0.0000  , df=4\n",
      "parameter F test:         F=35.6247 , p=0.0000  , df_denom=53423, df_num=4\n"
     ]
    },
    {
     "data": {
      "text/plain": [
       "{1: ({'ssr_ftest': (610.3879936337504, 5.226073508796604e-134, 53432.0, 1),\n",
       "   'ssr_chi2test': (610.422264557184, 9.055360394319184e-135, 1),\n",
       "   'lrtest': (606.9619699493924, 5.123061693815937e-134, 1),\n",
       "   'params_ftest': (610.3879936338582, 5.226073508513795e-134, 53432.0, 1.0)},\n",
       "  [<statsmodels.regression.linear_model.RegressionResultsWrapper at 0x1f09fd80f10>,\n",
       "   <statsmodels.regression.linear_model.RegressionResultsWrapper at 0x1f09fd80fa0>,\n",
       "   array([[0., 1., 0.]])]),\n",
       " 2: ({'ssr_ftest': (120.51821830692595, 5.988411365817611e-53, 53429.0, 2),\n",
       "   'ssr_chi2test': (241.05899331869512, 4.515488018715277e-53, 2),\n",
       "   'lrtest': (240.5168735091138, 5.921401579259194e-53, 2),\n",
       "   'params_ftest': (120.51821830688468, 5.988411366068147e-53, 53429.0, 2.0)},\n",
       "  [<statsmodels.regression.linear_model.RegressionResultsWrapper at 0x1f09fd98a60>,\n",
       "   <statsmodels.regression.linear_model.RegressionResultsWrapper at 0x1f09fda5310>,\n",
       "   array([[0., 0., 1., 0., 0.],\n",
       "          [0., 0., 0., 1., 0.]])]),\n",
       " 3: ({'ssr_ftest': (48.04960475374515, 5.3013052280820214e-31, 53426.0, 3),\n",
       "   'ssr_chi2test': (144.16770097743782, 4.772404407409665e-31, 3),\n",
       "   'lrtest': (143.97356050247618, 5.255398740172581e-31, 3),\n",
       "   'params_ftest': (48.04960475377022, 5.3013052278924e-31, 53426.0, 3.0)},\n",
       "  [<statsmodels.regression.linear_model.RegressionResultsWrapper at 0x1f09fda55e0>,\n",
       "   <statsmodels.regression.linear_model.RegressionResultsWrapper at 0x1f09fda55b0>,\n",
       "   array([[0., 0., 0., 1., 0., 0., 0.],\n",
       "          [0., 0., 0., 0., 1., 0., 0.],\n",
       "          [0., 0., 0., 0., 0., 1., 0.]])]),\n",
       " 4: ({'ssr_ftest': (35.624662623555125, 9.030240325003598e-30, 53423.0, 4),\n",
       "   'ssr_chi2test': (142.52265678092186, 8.137748204525231e-30, 4),\n",
       "   'lrtest': (142.332914128041, 8.935848253527881e-30, 4),\n",
       "   'params_ftest': (35.624662623565705, 9.030240324790575e-30, 53423.0, 4.0)},\n",
       "  [<statsmodels.regression.linear_model.RegressionResultsWrapper at 0x1f09fda58e0>,\n",
       "   <statsmodels.regression.linear_model.RegressionResultsWrapper at 0x1f09fda5760>,\n",
       "   array([[0., 0., 0., 0., 1., 0., 0., 0., 0.],\n",
       "          [0., 0., 0., 0., 0., 1., 0., 0., 0.],\n",
       "          [0., 0., 0., 0., 0., 0., 1., 0., 0.],\n",
       "          [0., 0., 0., 0., 0., 0., 0., 1., 0.]])])}"
      ]
     },
     "execution_count": 30,
     "metadata": {},
     "output_type": "execute_result"
    }
   ],
   "source": [
    "mydata = df[[\"negative\",\"timeCountTotal\"]]\n",
    "grangercausalitytests(mydata,maxlag=4,verbose=True)"
   ]
  },
  {
   "cell_type": "code",
   "execution_count": null,
   "id": "1d130cd7",
   "metadata": {},
   "outputs": [],
   "source": []
  },
  {
   "cell_type": "code",
   "execution_count": null,
   "id": "2e4813b9",
   "metadata": {},
   "outputs": [],
   "source": []
  },
  {
   "cell_type": "code",
   "execution_count": null,
   "id": "305874f6",
   "metadata": {},
   "outputs": [],
   "source": []
  },
  {
   "cell_type": "code",
   "execution_count": null,
   "id": "9cde4f5c",
   "metadata": {},
   "outputs": [],
   "source": []
  },
  {
   "cell_type": "code",
   "execution_count": null,
   "id": "676f8a4b",
   "metadata": {},
   "outputs": [],
   "source": []
  }
 ],
 "metadata": {
  "kernelspec": {
   "display_name": "Python 3",
   "language": "python",
   "name": "python3"
  },
  "language_info": {
   "codemirror_mode": {
    "name": "ipython",
    "version": 3
   },
   "file_extension": ".py",
   "mimetype": "text/x-python",
   "name": "python",
   "nbconvert_exporter": "python",
   "pygments_lexer": "ipython3",
   "version": "3.8.8"
  }
 },
 "nbformat": 4,
 "nbformat_minor": 5
}
